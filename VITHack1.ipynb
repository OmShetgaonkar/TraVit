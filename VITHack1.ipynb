{
  "nbformat": 4,
  "nbformat_minor": 0,
  "metadata": {
    "colab": {
      "provenance": [],
      "authorship_tag": "ABX9TyOU7ZaaogltuvYCDEEdV7xk",
      "include_colab_link": true
    },
    "kernelspec": {
      "name": "python3",
      "display_name": "Python 3"
    },
    "language_info": {
      "name": "python"
    }
  },
  "cells": [
    {
      "cell_type": "markdown",
      "metadata": {
        "id": "view-in-github",
        "colab_type": "text"
      },
      "source": [
        "<a href=\"https://colab.research.google.com/github/OmShetgaonkar/TraVit/blob/master/VITHack1.ipynb\" target=\"_parent\"><img src=\"https://colab.research.google.com/assets/colab-badge.svg\" alt=\"Open In Colab\"/></a>"
      ]
    },
    {
      "cell_type": "code",
      "execution_count": 1,
      "metadata": {
        "colab": {
          "base_uri": "https://localhost:8080/"
        },
        "id": "Tq9mOi8BIFLk",
        "outputId": "4ff6d24c-4fda-4b23-c692-e169a7286e3f"
      },
      "outputs": [
        {
          "output_type": "stream",
          "name": "stdout",
          "text": [
            "Requirement already satisfied: xgboost in /usr/local/lib/python3.10/dist-packages (2.1.1)\n",
            "Collecting dask-ml\n",
            "  Downloading dask_ml-2024.4.4-py3-none-any.whl.metadata (5.9 kB)\n",
            "Requirement already satisfied: dask[xgboost] in /usr/local/lib/python3.10/dist-packages (2024.8.0)\n",
            "\u001b[33mWARNING: dask 2024.8.0 does not provide the extra 'xgboost'\u001b[0m\u001b[33m\n",
            "\u001b[0mRequirement already satisfied: click>=8.1 in /usr/local/lib/python3.10/dist-packages (from dask[xgboost]) (8.1.7)\n",
            "Requirement already satisfied: cloudpickle>=1.5.0 in /usr/local/lib/python3.10/dist-packages (from dask[xgboost]) (2.2.1)\n",
            "Requirement already satisfied: fsspec>=2021.09.0 in /usr/local/lib/python3.10/dist-packages (from dask[xgboost]) (2024.6.1)\n",
            "Requirement already satisfied: packaging>=20.0 in /usr/local/lib/python3.10/dist-packages (from dask[xgboost]) (24.1)\n",
            "Requirement already satisfied: partd>=1.4.0 in /usr/local/lib/python3.10/dist-packages (from dask[xgboost]) (1.4.2)\n",
            "Requirement already satisfied: pyyaml>=5.3.1 in /usr/local/lib/python3.10/dist-packages (from dask[xgboost]) (6.0.2)\n",
            "Requirement already satisfied: toolz>=0.10.0 in /usr/local/lib/python3.10/dist-packages (from dask[xgboost]) (0.12.1)\n",
            "Requirement already satisfied: importlib-metadata>=4.13.0 in /usr/local/lib/python3.10/dist-packages (from dask[xgboost]) (8.5.0)\n",
            "Requirement already satisfied: numpy in /usr/local/lib/python3.10/dist-packages (from xgboost) (1.26.4)\n",
            "Requirement already satisfied: nvidia-nccl-cu12 in /usr/local/lib/python3.10/dist-packages (from xgboost) (2.23.4)\n",
            "Requirement already satisfied: scipy in /usr/local/lib/python3.10/dist-packages (from xgboost) (1.13.1)\n",
            "Collecting dask-glm>=0.2.0 (from dask-ml)\n",
            "  Downloading dask_glm-0.3.2-py2.py3-none-any.whl.metadata (1.5 kB)\n",
            "Requirement already satisfied: distributed>=2.4.0 in /usr/local/lib/python3.10/dist-packages (from dask-ml) (2024.8.0)\n",
            "Requirement already satisfied: multipledispatch>=0.4.9 in /usr/local/lib/python3.10/dist-packages (from dask-ml) (1.0.0)\n",
            "Requirement already satisfied: numba>=0.51.0 in /usr/local/lib/python3.10/dist-packages (from dask-ml) (0.60.0)\n",
            "Requirement already satisfied: pandas>=0.24.2 in /usr/local/lib/python3.10/dist-packages (from dask-ml) (2.1.4)\n",
            "Requirement already satisfied: scikit-learn>=1.2.0 in /usr/local/lib/python3.10/dist-packages (from dask-ml) (1.3.2)\n",
            "Collecting sparse>=0.7.0 (from dask-glm>=0.2.0->dask-ml)\n",
            "  Downloading sparse-0.15.4-py2.py3-none-any.whl.metadata (4.5 kB)\n",
            "Collecting dask-expr<1.2,>=1.1 (from dask[xgboost])\n",
            "  Downloading dask_expr-1.1.14-py3-none-any.whl.metadata (2.5 kB)\n",
            "Requirement already satisfied: jinja2>=2.10.3 in /usr/local/lib/python3.10/dist-packages (from distributed>=2.4.0->dask-ml) (3.1.4)\n",
            "Requirement already satisfied: locket>=1.0.0 in /usr/local/lib/python3.10/dist-packages (from distributed>=2.4.0->dask-ml) (1.0.0)\n",
            "Requirement already satisfied: msgpack>=1.0.0 in /usr/local/lib/python3.10/dist-packages (from distributed>=2.4.0->dask-ml) (1.0.8)\n",
            "Requirement already satisfied: psutil>=5.7.2 in /usr/local/lib/python3.10/dist-packages (from distributed>=2.4.0->dask-ml) (5.9.5)\n",
            "Requirement already satisfied: sortedcontainers>=2.0.5 in /usr/local/lib/python3.10/dist-packages (from distributed>=2.4.0->dask-ml) (2.4.0)\n",
            "Requirement already satisfied: tblib>=1.6.0 in /usr/local/lib/python3.10/dist-packages (from distributed>=2.4.0->dask-ml) (3.0.0)\n",
            "Requirement already satisfied: tornado>=6.0.4 in /usr/local/lib/python3.10/dist-packages (from distributed>=2.4.0->dask-ml) (6.3.3)\n",
            "Requirement already satisfied: urllib3>=1.24.3 in /usr/local/lib/python3.10/dist-packages (from distributed>=2.4.0->dask-ml) (2.0.7)\n",
            "Requirement already satisfied: zict>=3.0.0 in /usr/local/lib/python3.10/dist-packages (from distributed>=2.4.0->dask-ml) (3.0.0)\n",
            "Requirement already satisfied: zipp>=3.20 in /usr/local/lib/python3.10/dist-packages (from importlib-metadata>=4.13.0->dask[xgboost]) (3.20.2)\n",
            "Requirement already satisfied: llvmlite<0.44,>=0.43.0dev0 in /usr/local/lib/python3.10/dist-packages (from numba>=0.51.0->dask-ml) (0.43.0)\n",
            "Requirement already satisfied: python-dateutil>=2.8.2 in /usr/local/lib/python3.10/dist-packages (from pandas>=0.24.2->dask-ml) (2.8.2)\n",
            "Requirement already satisfied: pytz>=2020.1 in /usr/local/lib/python3.10/dist-packages (from pandas>=0.24.2->dask-ml) (2024.2)\n",
            "Requirement already satisfied: tzdata>=2022.1 in /usr/local/lib/python3.10/dist-packages (from pandas>=0.24.2->dask-ml) (2024.1)\n",
            "Requirement already satisfied: joblib>=1.1.1 in /usr/local/lib/python3.10/dist-packages (from scikit-learn>=1.2.0->dask-ml) (1.4.2)\n",
            "Requirement already satisfied: threadpoolctl>=2.0.0 in /usr/local/lib/python3.10/dist-packages (from scikit-learn>=1.2.0->dask-ml) (3.5.0)\n",
            "INFO: pip is looking at multiple versions of dask-expr to determine which version is compatible with other requirements. This could take a while.\n",
            "  Downloading dask_expr-1.1.13-py3-none-any.whl.metadata (2.5 kB)\n",
            "  Downloading dask_expr-1.1.12-py3-none-any.whl.metadata (2.5 kB)\n",
            "  Downloading dask_expr-1.1.11-py3-none-any.whl.metadata (2.5 kB)\n",
            "  Downloading dask_expr-1.1.10-py3-none-any.whl.metadata (2.5 kB)\n",
            "Requirement already satisfied: pyarrow>=7.0.0 in /usr/local/lib/python3.10/dist-packages (from dask-expr<1.2,>=1.1->dask[xgboost]) (14.0.2)\n",
            "Requirement already satisfied: MarkupSafe>=2.0 in /usr/local/lib/python3.10/dist-packages (from jinja2>=2.10.3->distributed>=2.4.0->dask-ml) (2.1.5)\n",
            "Requirement already satisfied: six>=1.5 in /usr/local/lib/python3.10/dist-packages (from python-dateutil>=2.8.2->pandas>=0.24.2->dask-ml) (1.16.0)\n",
            "Downloading dask_ml-2024.4.4-py3-none-any.whl (149 kB)\n",
            "\u001b[2K   \u001b[90m━━━━━━━━━━━━━━━━━━━━━━━━━━━━━━━━━━━━━━━━\u001b[0m \u001b[32m149.8/149.8 kB\u001b[0m \u001b[31m6.7 MB/s\u001b[0m eta \u001b[36m0:00:00\u001b[0m\n",
            "\u001b[?25hDownloading dask_glm-0.3.2-py2.py3-none-any.whl (13 kB)\n",
            "Downloading dask_expr-1.1.10-py3-none-any.whl (242 kB)\n",
            "\u001b[2K   \u001b[90m━━━━━━━━━━━━━━━━━━━━━━━━━━━━━━━━━━━━━━━━\u001b[0m \u001b[32m242.2/242.2 kB\u001b[0m \u001b[31m5.6 MB/s\u001b[0m eta \u001b[36m0:00:00\u001b[0m\n",
            "\u001b[?25hDownloading sparse-0.15.4-py2.py3-none-any.whl (237 kB)\n",
            "\u001b[2K   \u001b[90m━━━━━━━━━━━━━━━━━━━━━━━━━━━━━━━━━━━━━━━━\u001b[0m \u001b[32m237.3/237.3 kB\u001b[0m \u001b[31m12.9 MB/s\u001b[0m eta \u001b[36m0:00:00\u001b[0m\n",
            "\u001b[?25hInstalling collected packages: sparse, dask-expr, dask-glm, dask-ml\n",
            "Successfully installed dask-expr-1.1.10 dask-glm-0.3.2 dask-ml-2024.4.4 sparse-0.15.4\n"
          ]
        }
      ],
      "source": [
        "!pip install dask[xgboost] xgboost dask-ml\n"
      ]
    },
    {
      "cell_type": "code",
      "source": [
        "import dask.dataframe as dd\n",
        "import pandas as pd\n",
        "from sklearn.ensemble import RandomForestRegressor\n",
        "from sklearn.metrics import mean_absolute_error, mean_squared_error\n",
        "from sklearn.model_selection import train_test_split\n",
        "import joblib\n",
        "\n",
        "# Step 1: Load the Temperature Data\n",
        "temperature_data = dd.read_csv('/content/ECCO-19400_19400_-sensors-data-_3_.csv', assume_missing=True)\n",
        "print(\"Temperature Data:\")\n",
        "print(temperature_data.head())\n",
        "\n",
        "# Step 2: Clean the Temperature Data\n",
        "temperature_data['DateTime'] = dd.to_datetime(temperature_data['DateTime'], errors='coerce')\n",
        "temperature_data = temperature_data.map_partitions(lambda df: df.ffill())\n",
        "temperature_data = temperature_data.compute()  # Compute to get the cleaned data\n",
        "print(\"Cleaned Temperature Data:\")\n",
        "print(temperature_data.head())\n",
        "\n",
        "# Step 3: Define Features and Target for Temperature Data\n",
        "temperature_features = ['Temperature [°C]', 'RH [%]', 'WBT_C']\n",
        "# Check available columns\n",
        "print(\"Available columns in temperature data:\", temperature_data.columns)\n",
        "\n",
        "# Update the target variable based on your data (change 'RT' to an appropriate column)\n",
        "temperature_target = 'Temperature [°C]'  # Example target, adjust as needed\n",
        "\n",
        "# Ensure target has no missing values\n",
        "X_temp = temperature_data[temperature_features]\n",
        "y_temp = temperature_data[temperature_target].dropna()\n",
        "X_temp = X_temp.loc[y_temp.index]  # Align X with y\n",
        "\n",
        "# Step 4: Train-Test Split for Temperature Data\n",
        "X_temp_train, X_temp_test, y_temp_train, y_temp_test = train_test_split(X_temp, y_temp, test_size=0.2, random_state=42)\n",
        "\n",
        "# Step 5: Model Training for Temperature Data\n",
        "temp_model = RandomForestRegressor(n_estimators=100, random_state=42)\n",
        "temp_model.fit(X_temp_train, y_temp_train)\n",
        "\n",
        "# Step 6: Make Predictions and Evaluate the Model for Temperature Data\n",
        "y_temp_pred = temp_model.predict(X_temp_test)\n",
        "temp_mae = mean_absolute_error(y_temp_test, y_temp_pred)\n",
        "temp_rmse = mean_squared_error(y_temp_test, y_temp_pred, squared=False)\n",
        "\n",
        "print(f'Temperature Data - Mean Absolute Error (MAE): {temp_mae}')\n",
        "print(f'Temperature Data - Root Mean Squared Error (RMSE): {temp_rmse}')\n",
        "\n",
        "# Step 7: Save the Temperature Model\n",
        "joblib.dump(temp_model, 'temperature_model.pkl')\n",
        "\n",
        "# ----------------------------------\n",
        "\n",
        "# Step 8: Load the Efficiency Data\n",
        "efficiency_data = dd.read_csv('/content/TableData (6).csv', assume_missing=True)\n",
        "print(\"Efficiency Data:\")\n",
        "print(efficiency_data.head())\n",
        "\n",
        "# Step 9: Clean the Efficiency Data\n",
        "efficiency_data['Time'] = dd.to_datetime(efficiency_data['Time'], errors='coerce')\n",
        "efficiency_data = efficiency_data.map_partitions(lambda df: df.ffill())\n",
        "efficiency_data = efficiency_data.compute()  # Compute to get the cleaned data\n",
        "print(\"Cleaned Efficiency Data:\")\n",
        "print(efficiency_data.head())\n",
        "\n",
        "# Step 10: Define Features and Target for Efficiency Data\n",
        "efficiency_features = ['kW_RT', 'CH Load']  # Choose relevant features\n",
        "# Check available columns\n",
        "print(\"Available columns in efficiency data:\", efficiency_data.columns)\n",
        "\n",
        "# Update the target variable based on your data\n",
        "efficiency_target = 'kW_Tot'  # Example target, adjust as needed\n",
        "\n",
        "# Ensure target has no missing values\n",
        "X_eff = efficiency_data[efficiency_features]\n",
        "y_eff = efficiency_data[efficiency_target].dropna()\n",
        "X_eff = X_eff.loc[y_eff.index]  # Align X with y\n",
        "\n",
        "# Step 11: Train-Test Split for Efficiency Data\n",
        "X_eff_train, X_eff_test, y_eff_train, y_eff_test = train_test_split(X_eff, y_eff, test_size=0.2, random_state=42)\n",
        "\n",
        "# Step 12: Model Training for Efficiency Data\n",
        "eff_model = RandomForestRegressor(n_estimators=100, random_state=42)\n",
        "eff_model.fit(X_eff_train, y_eff_train)\n",
        "\n",
        "# Step 13: Make Predictions and Evaluate the Model for Efficiency Data\n",
        "y_eff_pred = eff_model.predict(X_eff_test)\n",
        "eff_mae = mean_absolute_error(y_eff_test, y_eff_pred)\n",
        "eff_rmse = mean_squared_error(y_eff_test, y_eff_pred, squared=False)\n",
        "\n",
        "print(f'Efficiency Data - Mean Absolute Error (MAE): {eff_mae}')\n",
        "print(f'Efficiency Data - Root Mean Squared Error (RMSE): {eff_rmse}')\n",
        "\n",
        "# Step 14: Save the Efficiency Model\n",
        "joblib.dump(eff_model, 'efficiency_model.pkl')\n"
      ],
      "metadata": {
        "colab": {
          "base_uri": "https://localhost:8080/"
        },
        "id": "jEugrdS2IoNS",
        "outputId": "174e0217-56a1-44ce-f780-bdd0e86fead9"
      },
      "execution_count": 13,
      "outputs": [
        {
          "output_type": "stream",
          "name": "stdout",
          "text": [
            "Temperature Data:\n",
            "                  DateTime  RH [%]  Temperature [°C]  WBT_C\n",
            "0  2024-03-01 00:00:42.000    68.4              30.8   26.1\n",
            "1  2024-03-01 00:10:42.000    68.3              30.8   26.1\n",
            "2  2024-03-01 00:20:42.000    68.3              30.8   26.0\n",
            "3  2024-03-01 00:30:42.000    68.4              30.8   26.1\n",
            "4  2024-03-01 00:40:42.000    68.6              30.7   26.0\n",
            "Cleaned Temperature Data:\n",
            "             DateTime  RH [%]  Temperature [°C]  WBT_C\n",
            "0 2024-03-01 00:00:42    68.4              30.8   26.1\n",
            "1 2024-03-01 00:10:42    68.3              30.8   26.1\n",
            "2 2024-03-01 00:20:42    68.3              30.8   26.0\n",
            "3 2024-03-01 00:30:42    68.4              30.8   26.1\n",
            "4 2024-03-01 00:40:42    68.6              30.7   26.0\n",
            "Available columns in temperature data: Index(['DateTime', 'RH [%]', 'Temperature [°C]', 'WBT_C'], dtype='object')\n",
            "Temperature Data - Mean Absolute Error (MAE): 0.0002807547170267368\n",
            "Temperature Data - Root Mean Squared Error (RMSE): 0.010912101642861036\n",
            "Efficiency Data:\n",
            "                  Time     RT  kW_Tot  kW_RT  CH Load  CH1  CH2  CH3  CH4  \\\n",
            "0  2023-12-01T00:00:00  201.2   208.7  1.037     39.6  0.0  1.0  0.0  0.0   \n",
            "1  2023-12-01T00:10:00  180.5   203.5  1.127     38.4  0.0  1.0  0.0  0.0   \n",
            "2  2023-12-01T00:20:00  170.2   200.8  1.179     37.6  0.0  1.0  0.0  0.0   \n",
            "3  2023-12-01T00:30:00  184.9   201.2  1.088     37.8  0.0  1.0  0.0  0.0   \n",
            "4  2023-12-01T00:40:00  176.4   181.4  1.028     34.6  0.0  1.0  0.0  0.0   \n",
            "\n",
            "   kW_CHH  ...   WBT  DeltaCT  Hz_ CHP  Hz_CHS  Hz_CDS  Hz_CT  Precent_CH  \\\n",
            "0   135.6  ...  75.6     -2.4     48.0     0.0    47.0   47.0        65.0   \n",
            "1   130.4  ...  75.6     -2.3     48.0     0.0    47.0   47.0        64.1   \n",
            "2   127.8  ...  75.6     -2.2     48.0     0.0    47.0   47.0        63.6   \n",
            "3   128.3  ...  75.6     -2.0     48.0     0.0    47.0   47.0        63.8   \n",
            "4   117.6  ...  75.6     -2.2     48.0     0.0    47.0   47.0        64.8   \n",
            "\n",
            "   Precent_ CHP  Precent_CDS  Precent_CT  \n",
            "0          11.2         14.8         9.1  \n",
            "1          11.5         15.2         9.3  \n",
            "2          11.6         15.4         9.4  \n",
            "3          11.6         15.2         9.4  \n",
            "4          13.3         17.0         4.9  \n",
            "\n",
            "[5 rows x 31 columns]\n",
            "Cleaned Efficiency Data:\n",
            "                 Time     RT  kW_Tot  kW_RT  CH Load  CH1  CH2  CH3  CH4  \\\n",
            "0 2023-12-01 00:00:00  201.2   208.7  1.037     39.6  0.0  1.0  0.0  0.0   \n",
            "1 2023-12-01 00:10:00  180.5   203.5  1.127     38.4  0.0  1.0  0.0  0.0   \n",
            "2 2023-12-01 00:20:00  170.2   200.8  1.179     37.6  0.0  1.0  0.0  0.0   \n",
            "3 2023-12-01 00:30:00  184.9   201.2  1.088     37.8  0.0  1.0  0.0  0.0   \n",
            "4 2023-12-01 00:40:00  176.4   181.4  1.028     34.6  0.0  1.0  0.0  0.0   \n",
            "\n",
            "   kW_CHH  ...   WBT  DeltaCT  Hz_ CHP  Hz_CHS  Hz_CDS  Hz_CT  Precent_CH  \\\n",
            "0   135.6  ...  75.6     -2.4     48.0     0.0    47.0   47.0        65.0   \n",
            "1   130.4  ...  75.6     -2.3     48.0     0.0    47.0   47.0        64.1   \n",
            "2   127.8  ...  75.6     -2.2     48.0     0.0    47.0   47.0        63.6   \n",
            "3   128.3  ...  75.6     -2.0     48.0     0.0    47.0   47.0        63.8   \n",
            "4   117.6  ...  75.6     -2.2     48.0     0.0    47.0   47.0        64.8   \n",
            "\n",
            "   Precent_ CHP  Precent_CDS  Precent_CT  \n",
            "0          11.2         14.8         9.1  \n",
            "1          11.5         15.2         9.3  \n",
            "2          11.6         15.4         9.4  \n",
            "3          11.6         15.2         9.4  \n",
            "4          13.3         17.0         4.9  \n",
            "\n",
            "[5 rows x 31 columns]\n",
            "Available columns in efficiency data: Index(['Time', 'RT', 'kW_Tot', 'kW_RT', 'CH Load', 'CH1', 'CH2', 'CH3', 'CH4',\n",
            "       'kW_CHH', 'kW_CHP', 'kW_CHS', 'kW_CDS', 'kW_CT', 'GPM', 'DeltaCHW',\n",
            "       'CHWS', 'CHWR', 'DeltaCDW', 'CDHI', 'CDLO', 'WBT', 'DeltaCT', 'Hz_ CHP',\n",
            "       'Hz_CHS', 'Hz_CDS', 'Hz_CT', 'Precent_CH', 'Precent_ CHP',\n",
            "       'Precent_CDS', 'Precent_CT'],\n",
            "      dtype='object')\n",
            "Efficiency Data - Mean Absolute Error (MAE): 3.691321878802751\n",
            "Efficiency Data - Root Mean Squared Error (RMSE): 6.536817696235996\n"
          ]
        },
        {
          "output_type": "execute_result",
          "data": {
            "text/plain": [
              "['efficiency_model.pkl']"
            ]
          },
          "metadata": {},
          "execution_count": 13
        }
      ]
    },
    {
      "cell_type": "code",
      "source": [
        "from google.colab import files\n",
        "\n",
        "# Download both models\n",
        "files.download('efficiency_model.pkl')\n",
        "files.download('temperature_model.pkl')  # Assuming you have this model saved as well\n",
        "\n"
      ],
      "metadata": {
        "colab": {
          "base_uri": "https://localhost:8080/",
          "height": 17
        },
        "id": "CBr159iBRF8R",
        "outputId": "4edee740-1301-4d53-b489-f803df880e02"
      },
      "execution_count": 14,
      "outputs": [
        {
          "output_type": "display_data",
          "data": {
            "text/plain": [
              "<IPython.core.display.Javascript object>"
            ],
            "application/javascript": [
              "\n",
              "    async function download(id, filename, size) {\n",
              "      if (!google.colab.kernel.accessAllowed) {\n",
              "        return;\n",
              "      }\n",
              "      const div = document.createElement('div');\n",
              "      const label = document.createElement('label');\n",
              "      label.textContent = `Downloading \"${filename}\": `;\n",
              "      div.appendChild(label);\n",
              "      const progress = document.createElement('progress');\n",
              "      progress.max = size;\n",
              "      div.appendChild(progress);\n",
              "      document.body.appendChild(div);\n",
              "\n",
              "      const buffers = [];\n",
              "      let downloaded = 0;\n",
              "\n",
              "      const channel = await google.colab.kernel.comms.open(id);\n",
              "      // Send a message to notify the kernel that we're ready.\n",
              "      channel.send({})\n",
              "\n",
              "      for await (const message of channel.messages) {\n",
              "        // Send a message to notify the kernel that we're ready.\n",
              "        channel.send({})\n",
              "        if (message.buffers) {\n",
              "          for (const buffer of message.buffers) {\n",
              "            buffers.push(buffer);\n",
              "            downloaded += buffer.byteLength;\n",
              "            progress.value = downloaded;\n",
              "          }\n",
              "        }\n",
              "      }\n",
              "      const blob = new Blob(buffers, {type: 'application/binary'});\n",
              "      const a = document.createElement('a');\n",
              "      a.href = window.URL.createObjectURL(blob);\n",
              "      a.download = filename;\n",
              "      div.appendChild(a);\n",
              "      a.click();\n",
              "      div.remove();\n",
              "    }\n",
              "  "
            ]
          },
          "metadata": {}
        },
        {
          "output_type": "display_data",
          "data": {
            "text/plain": [
              "<IPython.core.display.Javascript object>"
            ],
            "application/javascript": [
              "download(\"download_a1693c6c-76fe-446c-a587-994e1dc139cf\", \"efficiency_model.pkl\", 30460001)"
            ]
          },
          "metadata": {}
        },
        {
          "output_type": "display_data",
          "data": {
            "text/plain": [
              "<IPython.core.display.Javascript object>"
            ],
            "application/javascript": [
              "\n",
              "    async function download(id, filename, size) {\n",
              "      if (!google.colab.kernel.accessAllowed) {\n",
              "        return;\n",
              "      }\n",
              "      const div = document.createElement('div');\n",
              "      const label = document.createElement('label');\n",
              "      label.textContent = `Downloading \"${filename}\": `;\n",
              "      div.appendChild(label);\n",
              "      const progress = document.createElement('progress');\n",
              "      progress.max = size;\n",
              "      div.appendChild(progress);\n",
              "      document.body.appendChild(div);\n",
              "\n",
              "      const buffers = [];\n",
              "      let downloaded = 0;\n",
              "\n",
              "      const channel = await google.colab.kernel.comms.open(id);\n",
              "      // Send a message to notify the kernel that we're ready.\n",
              "      channel.send({})\n",
              "\n",
              "      for await (const message of channel.messages) {\n",
              "        // Send a message to notify the kernel that we're ready.\n",
              "        channel.send({})\n",
              "        if (message.buffers) {\n",
              "          for (const buffer of message.buffers) {\n",
              "            buffers.push(buffer);\n",
              "            downloaded += buffer.byteLength;\n",
              "            progress.value = downloaded;\n",
              "          }\n",
              "        }\n",
              "      }\n",
              "      const blob = new Blob(buffers, {type: 'application/binary'});\n",
              "      const a = document.createElement('a');\n",
              "      a.href = window.URL.createObjectURL(blob);\n",
              "      a.download = filename;\n",
              "      div.appendChild(a);\n",
              "      a.click();\n",
              "      div.remove();\n",
              "    }\n",
              "  "
            ]
          },
          "metadata": {}
        },
        {
          "output_type": "display_data",
          "data": {
            "text/plain": [
              "<IPython.core.display.Javascript object>"
            ],
            "application/javascript": [
              "download(\"download_f1d3bf80-9145-45e0-af35-87d967f773e8\", \"temperature_model.pkl\", 2848033)"
            ]
          },
          "metadata": {}
        }
      ]
    },
    {
      "cell_type": "code",
      "source": [
        "import pickle\n",
        "\n",
        "# After training your model\n",
        "with open('efficiency_model.pkl', 'wb') as file:\n",
        "    pickle.dump(model, file)\n"
      ],
      "metadata": {
        "id": "XGtZfKhmXPCZ"
      },
      "execution_count": 24,
      "outputs": []
    },
    {
      "cell_type": "code",
      "source": [
        "import pickle\n",
        "\n",
        "# Load the model\n",
        "with open('efficiency_model.pkl', 'rb') as file:\n",
        "    model = pickle.load(file)\n"
      ],
      "metadata": {
        "id": "8cou0w42Xhs7"
      },
      "execution_count": 25,
      "outputs": []
    },
    {
      "cell_type": "code",
      "source": [
        "print(type(model))\n"
      ],
      "metadata": {
        "colab": {
          "base_uri": "https://localhost:8080/"
        },
        "id": "7yzQyNg0XnFT",
        "outputId": "8572efe5-dcf8-4303-d829-810b1e0e7f33"
      },
      "execution_count": 26,
      "outputs": [
        {
          "output_type": "stream",
          "name": "stdout",
          "text": [
            "<class 'numpy.ndarray'>\n"
          ]
        }
      ]
    },
    {
      "cell_type": "code",
      "source": [
        "import pickle\n",
        "import pandas as pd\n",
        "\n",
        "# Load the model\n",
        "with open('efficiency_model.pkl', 'rb') as file:\n",
        "    model = pickle.load(file)\n",
        "\n",
        "# Check if the model loaded correctly\n",
        "print(type(model))  # Should show your model class\n",
        "\n",
        "# Prepare input data\n",
        "input_data = pd.DataFrame({\n",
        "    'RT': [201.2],\n",
        "    'kW_Tot': [208.7],\n",
        "    'CH Load': [39.6],\n",
        "    # Add other required features...\n",
        "})\n",
        "\n",
        "# Make predictions\n",
        "predictions = model.predict(input_data)\n",
        "\n",
        "# Output predictions\n",
        "print(\"Predicted Efficiency:\", predictions)\n"
      ],
      "metadata": {
        "colab": {
          "base_uri": "https://localhost:8080/",
          "height": 228
        },
        "id": "DROK1bS4XovT",
        "outputId": "5f5dd4ae-ab54-42ae-b5b2-8a524a91969f"
      },
      "execution_count": 27,
      "outputs": [
        {
          "output_type": "stream",
          "name": "stdout",
          "text": [
            "<class 'numpy.ndarray'>\n"
          ]
        },
        {
          "output_type": "error",
          "ename": "AttributeError",
          "evalue": "'numpy.ndarray' object has no attribute 'predict'",
          "traceback": [
            "\u001b[0;31m---------------------------------------------------------------------------\u001b[0m",
            "\u001b[0;31mAttributeError\u001b[0m                            Traceback (most recent call last)",
            "\u001b[0;32m<ipython-input-27-daba90a15dff>\u001b[0m in \u001b[0;36m<cell line: 20>\u001b[0;34m()\u001b[0m\n\u001b[1;32m     18\u001b[0m \u001b[0;34m\u001b[0m\u001b[0m\n\u001b[1;32m     19\u001b[0m \u001b[0;31m# Make predictions\u001b[0m\u001b[0;34m\u001b[0m\u001b[0;34m\u001b[0m\u001b[0m\n\u001b[0;32m---> 20\u001b[0;31m \u001b[0mpredictions\u001b[0m \u001b[0;34m=\u001b[0m \u001b[0mmodel\u001b[0m\u001b[0;34m.\u001b[0m\u001b[0mpredict\u001b[0m\u001b[0;34m(\u001b[0m\u001b[0minput_data\u001b[0m\u001b[0;34m)\u001b[0m\u001b[0;34m\u001b[0m\u001b[0;34m\u001b[0m\u001b[0m\n\u001b[0m\u001b[1;32m     21\u001b[0m \u001b[0;34m\u001b[0m\u001b[0m\n\u001b[1;32m     22\u001b[0m \u001b[0;31m# Output predictions\u001b[0m\u001b[0;34m\u001b[0m\u001b[0;34m\u001b[0m\u001b[0m\n",
            "\u001b[0;31mAttributeError\u001b[0m: 'numpy.ndarray' object has no attribute 'predict'"
          ]
        }
      ]
    },
    {
      "cell_type": "code",
      "source": [
        "import pandas as pd\n",
        "\n",
        "# Assuming X_train is a DataFrame\n",
        "print(X_train.isnull().sum())  # This will show the count of missing values per column\n",
        "\n"
      ],
      "metadata": {
        "colab": {
          "base_uri": "https://localhost:8080/"
        },
        "id": "rviJepspXzAW",
        "outputId": "cceb02d5-2ccc-401b-d291-c9e53d42efe2"
      },
      "execution_count": 29,
      "outputs": [
        {
          "output_type": "stream",
          "name": "stdout",
          "text": [
            "Temperature [°C]    3552\n",
            "RH [%]              3552\n",
            "WBT_C               3552\n",
            "RT                     0\n",
            "CH Load                0\n",
            "dtype: int64\n"
          ]
        }
      ]
    },
    {
      "cell_type": "code",
      "source": [
        "# Fill with the mean of each column\n",
        "X_train = X_train.fillna(X_train.mean())\n"
      ],
      "metadata": {
        "id": "-uKbS7oQYJTR"
      },
      "execution_count": 30,
      "outputs": []
    },
    {
      "cell_type": "code",
      "source": [
        "from sklearn.impute import SimpleImputer\n",
        "\n",
        "imputer = SimpleImputer(strategy='mean')  # Or 'median', 'most_frequent', etc.\n",
        "X_train = imputer.fit_transform(X_train)\n"
      ],
      "metadata": {
        "colab": {
          "base_uri": "https://localhost:8080/"
        },
        "id": "dRLtWOmGYK7T",
        "outputId": "b2ad7fd4-8b98-4933-cc89-7966db4e5c68"
      },
      "execution_count": 31,
      "outputs": [
        {
          "output_type": "stream",
          "name": "stderr",
          "text": [
            "/usr/local/lib/python3.10/dist-packages/sklearn/impute/_base.py:558: UserWarning: Skipping features without any observed values: ['Temperature [°C]' 'RH [%]' 'WBT_C']. At least one non-missing value is needed for imputation with strategy='mean'.\n",
            "  warnings.warn(\n"
          ]
        }
      ]
    },
    {
      "cell_type": "code",
      "source": [
        "from sklearn.linear_model import LinearRegression\n",
        "\n",
        "model = LinearRegression()\n",
        "model.fit(X_train, y_train)\n",
        "\n",
        "# Save the trained model\n",
        "with open('efficiency_model.pkl', 'wb') as file:\n",
        "    pickle.dump(model, file)\n"
      ],
      "metadata": {
        "id": "C1HK4pBjYOGZ"
      },
      "execution_count": 32,
      "outputs": []
    },
    {
      "cell_type": "code",
      "source": [
        "import pandas as pd\n",
        "\n",
        "# Assuming X_temp is a DataFrame containing your temperature features\n",
        "print(X_temp.isnull().sum())  # Count of missing values per column\n"
      ],
      "metadata": {
        "colab": {
          "base_uri": "https://localhost:8080/"
        },
        "id": "ufhdL0vYYWRz",
        "outputId": "d5b05261-0f0c-4f02-ab37-df6103f3612c"
      },
      "execution_count": 33,
      "outputs": [
        {
          "output_type": "stream",
          "name": "stdout",
          "text": [
            "RH [%]    0\n",
            "WBT_C     0\n",
            "dtype: int64\n"
          ]
        }
      ]
    },
    {
      "cell_type": "code",
      "source": [
        "# Fill with the mean of each column\n",
        "X_temp = X_temp.fillna(X_temp.mean())\n"
      ],
      "metadata": {
        "id": "pvZT5pZFYYAU"
      },
      "execution_count": 34,
      "outputs": []
    },
    {
      "cell_type": "code",
      "source": [
        "from sklearn.linear_model import LinearRegression  # or whichever model you are using\n",
        "\n",
        "# Train the model\n",
        "temp_model = LinearRegression()\n",
        "temp_model.fit(X_temp, y_temp)\n",
        "\n",
        "# Save the trained model\n",
        "with open('temperature_model.pkl', 'wb') as file:\n",
        "    pickle.dump(temp_model, file)\n"
      ],
      "metadata": {
        "id": "ndXrjKa7YayO"
      },
      "execution_count": 35,
      "outputs": []
    },
    {
      "cell_type": "code",
      "source": [
        "print(X_temp.isnull().sum())  # Check again for NaN values\n"
      ],
      "metadata": {
        "colab": {
          "base_uri": "https://localhost:8080/"
        },
        "id": "VQiS2zzdYfSv",
        "outputId": "df4e3da9-8b24-49d3-be1c-6f8032a1e381"
      },
      "execution_count": 36,
      "outputs": [
        {
          "output_type": "stream",
          "name": "stdout",
          "text": [
            "RH [%]    0\n",
            "WBT_C     0\n",
            "dtype: int64\n"
          ]
        }
      ]
    },
    {
      "cell_type": "code",
      "source": [
        "from sklearn.linear_model import LinearRegression\n",
        "import pickle\n",
        "\n",
        "# Example of training the temperature model\n",
        "temp_model = LinearRegression()\n",
        "temp_model.fit(X_temp, y_temp)\n",
        "\n",
        "# Save the trained model\n",
        "with open('temperature_model.pkl', 'wb') as file:\n",
        "    pickle.dump(temp_model, file)\n"
      ],
      "metadata": {
        "id": "5aKaXjcMYnSY"
      },
      "execution_count": 37,
      "outputs": []
    },
    {
      "cell_type": "code",
      "source": [
        "# Load the trained temperature model\n",
        "with open('temperature_model.pkl', 'rb') as file:\n",
        "    temp_model = pickle.load(file)\n",
        "\n",
        "# Prepare new input data for predictions\n",
        "input_data = pd.DataFrame({\n",
        "    'RH [%]': [68.4],\n",
        "    'WBT_C': [26.1],\n",
        "    # Add any other features you need...\n",
        "})\n",
        "\n",
        "# Make predictions\n",
        "predictions = temp_model.predict(input_data)\n",
        "\n",
        "# Output predictions\n",
        "print(\"Predicted Temperature:\", predictions)\n"
      ],
      "metadata": {
        "colab": {
          "base_uri": "https://localhost:8080/"
        },
        "id": "vj1-w3VOYoyP",
        "outputId": "6948a826-b966-4931-c425-1f63d12ff0a3"
      },
      "execution_count": 38,
      "outputs": [
        {
          "output_type": "stream",
          "name": "stdout",
          "text": [
            "Predicted Temperature: [30.86466838]\n"
          ]
        }
      ]
    },
    {
      "cell_type": "code",
      "source": [
        "import pickle\n",
        "\n",
        "# Load the trained efficiency model\n",
        "with open('efficiency_model.pkl', 'rb') as file:\n",
        "    efficiency_model = pickle.load(file)\n"
      ],
      "metadata": {
        "id": "I64Orvp7You0"
      },
      "execution_count": 39,
      "outputs": []
    },
    {
      "cell_type": "code",
      "source": [
        "import pandas as pd\n",
        "\n",
        "# Example of preparing input data for predictions\n",
        "input_data = pd.DataFrame({\n",
        "    'RT': [200.0],          # Example values; replace with actual data\n",
        "    'kW_Tot': [210.0],\n",
        "    'kW_RT': [1.05],\n",
        "    'CH Load': [40.0],\n",
        "    'CH1': [0.0],\n",
        "    'CH2': [1.0],\n",
        "    'CH3': [0.0],\n",
        "    'CH4': [0.0],\n",
        "    # Include other features as necessary...\n",
        "})\n"
      ],
      "metadata": {
        "id": "aNTnnB09Yzls"
      },
      "execution_count": 40,
      "outputs": []
    },
    {
      "cell_type": "code",
      "source": [
        "# Prepare input data with the correct features\n",
        "input_data = pd.DataFrame({\n",
        "    'RT': [200.0],          # Example value for RT\n",
        "    'kW_Tot': [210.0],      # Example value for kW_Tot\n",
        "    # Include only the features used in training...\n",
        "})\n"
      ],
      "metadata": {
        "id": "x6mJ7zcIZAHm"
      },
      "execution_count": 42,
      "outputs": []
    },
    {
      "cell_type": "code",
      "source": [
        "print(input_data.shape)  # Should match (n_samples, n_features)\n"
      ],
      "metadata": {
        "colab": {
          "base_uri": "https://localhost:8080/"
        },
        "id": "jvcBkdAsZBjb",
        "outputId": "310d17dc-8610-4e6d-9582-e4c72390e8b4"
      },
      "execution_count": 43,
      "outputs": [
        {
          "output_type": "stream",
          "name": "stdout",
          "text": [
            "(1, 2)\n"
          ]
        }
      ]
    },
    {
      "cell_type": "code",
      "source": [
        "# Make predictions\n",
        "predictions = efficiency_model.predict(input_data)\n",
        "\n",
        "# Output predictions\n",
        "print(\"Predicted Efficiency:\", predictions)\n"
      ],
      "metadata": {
        "colab": {
          "base_uri": "https://localhost:8080/"
        },
        "id": "IEmMtJp7ZFat",
        "outputId": "50b1f981-37d9-4fd5-d6c1-aa254f30a66c"
      },
      "execution_count": 44,
      "outputs": [
        {
          "output_type": "stream",
          "name": "stdout",
          "text": [
            "Predicted Efficiency: [772.98527279]\n"
          ]
        },
        {
          "output_type": "stream",
          "name": "stderr",
          "text": [
            "/usr/local/lib/python3.10/dist-packages/sklearn/base.py:458: UserWarning: X has feature names, but LinearRegression was fitted without feature names\n",
            "  warnings.warn(\n"
          ]
        }
      ]
    },
    {
      "cell_type": "code",
      "source": [
        "import pickle\n",
        "from google.colab import files\n",
        "\n",
        "# Save the efficiency model\n",
        "with open('efficiency_model.pkl', 'wb') as file:\n",
        "    pickle.dump(efficiency_model, file)\n",
        "\n",
        "# Save the temperature model (assuming you have it trained as well)\n",
        "with open('temperature_model.pkl', 'wb') as file:\n",
        "    pickle.dump(temperature_model, file)\n",
        "\n",
        "# Download the models\n",
        "files.download('efficiency_model.pkl')\n",
        "files.download('temperature_model.pkl')\n"
      ],
      "metadata": {
        "colab": {
          "base_uri": "https://localhost:8080/",
          "height": 17
        },
        "id": "LW200ABFZSRr",
        "outputId": "d482222a-33ce-4c3b-ec0b-4106c8ff9502"
      },
      "execution_count": 45,
      "outputs": [
        {
          "output_type": "display_data",
          "data": {
            "text/plain": [
              "<IPython.core.display.Javascript object>"
            ],
            "application/javascript": [
              "\n",
              "    async function download(id, filename, size) {\n",
              "      if (!google.colab.kernel.accessAllowed) {\n",
              "        return;\n",
              "      }\n",
              "      const div = document.createElement('div');\n",
              "      const label = document.createElement('label');\n",
              "      label.textContent = `Downloading \"${filename}\": `;\n",
              "      div.appendChild(label);\n",
              "      const progress = document.createElement('progress');\n",
              "      progress.max = size;\n",
              "      div.appendChild(progress);\n",
              "      document.body.appendChild(div);\n",
              "\n",
              "      const buffers = [];\n",
              "      let downloaded = 0;\n",
              "\n",
              "      const channel = await google.colab.kernel.comms.open(id);\n",
              "      // Send a message to notify the kernel that we're ready.\n",
              "      channel.send({})\n",
              "\n",
              "      for await (const message of channel.messages) {\n",
              "        // Send a message to notify the kernel that we're ready.\n",
              "        channel.send({})\n",
              "        if (message.buffers) {\n",
              "          for (const buffer of message.buffers) {\n",
              "            buffers.push(buffer);\n",
              "            downloaded += buffer.byteLength;\n",
              "            progress.value = downloaded;\n",
              "          }\n",
              "        }\n",
              "      }\n",
              "      const blob = new Blob(buffers, {type: 'application/binary'});\n",
              "      const a = document.createElement('a');\n",
              "      a.href = window.URL.createObjectURL(blob);\n",
              "      a.download = filename;\n",
              "      div.appendChild(a);\n",
              "      a.click();\n",
              "      div.remove();\n",
              "    }\n",
              "  "
            ]
          },
          "metadata": {}
        },
        {
          "output_type": "display_data",
          "data": {
            "text/plain": [
              "<IPython.core.display.Javascript object>"
            ],
            "application/javascript": [
              "download(\"download_a31b6c17-4fbe-42bd-b488-12e191356bd9\", \"efficiency_model.pkl\", 469)"
            ]
          },
          "metadata": {}
        },
        {
          "output_type": "display_data",
          "data": {
            "text/plain": [
              "<IPython.core.display.Javascript object>"
            ],
            "application/javascript": [
              "\n",
              "    async function download(id, filename, size) {\n",
              "      if (!google.colab.kernel.accessAllowed) {\n",
              "        return;\n",
              "      }\n",
              "      const div = document.createElement('div');\n",
              "      const label = document.createElement('label');\n",
              "      label.textContent = `Downloading \"${filename}\": `;\n",
              "      div.appendChild(label);\n",
              "      const progress = document.createElement('progress');\n",
              "      progress.max = size;\n",
              "      div.appendChild(progress);\n",
              "      document.body.appendChild(div);\n",
              "\n",
              "      const buffers = [];\n",
              "      let downloaded = 0;\n",
              "\n",
              "      const channel = await google.colab.kernel.comms.open(id);\n",
              "      // Send a message to notify the kernel that we're ready.\n",
              "      channel.send({})\n",
              "\n",
              "      for await (const message of channel.messages) {\n",
              "        // Send a message to notify the kernel that we're ready.\n",
              "        channel.send({})\n",
              "        if (message.buffers) {\n",
              "          for (const buffer of message.buffers) {\n",
              "            buffers.push(buffer);\n",
              "            downloaded += buffer.byteLength;\n",
              "            progress.value = downloaded;\n",
              "          }\n",
              "        }\n",
              "      }\n",
              "      const blob = new Blob(buffers, {type: 'application/binary'});\n",
              "      const a = document.createElement('a');\n",
              "      a.href = window.URL.createObjectURL(blob);\n",
              "      a.download = filename;\n",
              "      div.appendChild(a);\n",
              "      a.click();\n",
              "      div.remove();\n",
              "    }\n",
              "  "
            ]
          },
          "metadata": {}
        },
        {
          "output_type": "display_data",
          "data": {
            "text/plain": [
              "<IPython.core.display.Javascript object>"
            ],
            "application/javascript": [
              "download(\"download_4bb6785d-9441-4041-8aa5-14b692618619\", \"temperature_model.pkl\", 60411578)"
            ]
          },
          "metadata": {}
        }
      ]
    },
    {
      "cell_type": "code",
      "source": [
        "print(efficiency_model.coef_)\n",
        "print(efficiency_model.intercept_)\n",
        "\n"
      ],
      "metadata": {
        "colab": {
          "base_uri": "https://localhost:8080/"
        },
        "id": "NhnSLS83Z5ho",
        "outputId": "106bda01-00f1-462a-bca7-8b2854e8e1a0"
      },
      "execution_count": 46,
      "outputs": [
        {
          "output_type": "stream",
          "name": "stdout",
          "text": [
            "[0.0530027  3.32637765]\n",
            "63.84542601508002\n"
          ]
        }
      ]
    },
    {
      "cell_type": "code",
      "source": [
        "import pickle\n",
        "from google.colab import files\n",
        "\n",
        "# Save the efficiency model again\n",
        "with open('efficiency_model.pkl', 'wb') as file:\n",
        "    pickle.dump(efficiency_model, file)\n",
        "\n",
        "# Download the model\n",
        "files.download('efficiency_model.pkl')\n"
      ],
      "metadata": {
        "colab": {
          "base_uri": "https://localhost:8080/",
          "height": 17
        },
        "id": "h8Ss6OcoaHN0",
        "outputId": "c838fa36-5e0f-44da-e7e4-c2802ee1cd52"
      },
      "execution_count": 47,
      "outputs": [
        {
          "output_type": "display_data",
          "data": {
            "text/plain": [
              "<IPython.core.display.Javascript object>"
            ],
            "application/javascript": [
              "\n",
              "    async function download(id, filename, size) {\n",
              "      if (!google.colab.kernel.accessAllowed) {\n",
              "        return;\n",
              "      }\n",
              "      const div = document.createElement('div');\n",
              "      const label = document.createElement('label');\n",
              "      label.textContent = `Downloading \"${filename}\": `;\n",
              "      div.appendChild(label);\n",
              "      const progress = document.createElement('progress');\n",
              "      progress.max = size;\n",
              "      div.appendChild(progress);\n",
              "      document.body.appendChild(div);\n",
              "\n",
              "      const buffers = [];\n",
              "      let downloaded = 0;\n",
              "\n",
              "      const channel = await google.colab.kernel.comms.open(id);\n",
              "      // Send a message to notify the kernel that we're ready.\n",
              "      channel.send({})\n",
              "\n",
              "      for await (const message of channel.messages) {\n",
              "        // Send a message to notify the kernel that we're ready.\n",
              "        channel.send({})\n",
              "        if (message.buffers) {\n",
              "          for (const buffer of message.buffers) {\n",
              "            buffers.push(buffer);\n",
              "            downloaded += buffer.byteLength;\n",
              "            progress.value = downloaded;\n",
              "          }\n",
              "        }\n",
              "      }\n",
              "      const blob = new Blob(buffers, {type: 'application/binary'});\n",
              "      const a = document.createElement('a');\n",
              "      a.href = window.URL.createObjectURL(blob);\n",
              "      a.download = filename;\n",
              "      div.appendChild(a);\n",
              "      a.click();\n",
              "      div.remove();\n",
              "    }\n",
              "  "
            ]
          },
          "metadata": {}
        },
        {
          "output_type": "display_data",
          "data": {
            "text/plain": [
              "<IPython.core.display.Javascript object>"
            ],
            "application/javascript": [
              "download(\"download_1a8b87a5-324c-4a0c-ac60-fc686db98a80\", \"efficiency_model.pkl\", 469)"
            ]
          },
          "metadata": {}
        }
      ]
    },
    {
      "cell_type": "code",
      "source": [
        "from sklearn.externals import joblib  # If using older versions of sklearn\n",
        "import joblib\n",
        "\n",
        "# Save the efficiency model using joblib\n",
        "joblib.dump(efficiency_model, 'efficiency_model.joblib')\n",
        "\n",
        "# Download the model\n",
        "files.download('efficiency_model.joblib')\n"
      ],
      "metadata": {
        "colab": {
          "base_uri": "https://localhost:8080/",
          "height": 401
        },
        "id": "4QjsI_BoaRo0",
        "outputId": "2f94c991-2485-4cf5-8d98-9f149bf852f0"
      },
      "execution_count": 48,
      "outputs": [
        {
          "output_type": "error",
          "ename": "ImportError",
          "evalue": "cannot import name 'joblib' from 'sklearn.externals' (/usr/local/lib/python3.10/dist-packages/sklearn/externals/__init__.py)",
          "traceback": [
            "\u001b[0;31m---------------------------------------------------------------------------\u001b[0m",
            "\u001b[0;31mImportError\u001b[0m                               Traceback (most recent call last)",
            "\u001b[0;32m<ipython-input-48-d94ac631367b>\u001b[0m in \u001b[0;36m<cell line: 1>\u001b[0;34m()\u001b[0m\n\u001b[0;32m----> 1\u001b[0;31m \u001b[0;32mfrom\u001b[0m \u001b[0msklearn\u001b[0m\u001b[0;34m.\u001b[0m\u001b[0mexternals\u001b[0m \u001b[0;32mimport\u001b[0m \u001b[0mjoblib\u001b[0m  \u001b[0;31m# If using older versions of sklearn\u001b[0m\u001b[0;34m\u001b[0m\u001b[0;34m\u001b[0m\u001b[0m\n\u001b[0m\u001b[1;32m      2\u001b[0m \u001b[0;32mimport\u001b[0m \u001b[0mjoblib\u001b[0m\u001b[0;34m\u001b[0m\u001b[0;34m\u001b[0m\u001b[0m\n\u001b[1;32m      3\u001b[0m \u001b[0;34m\u001b[0m\u001b[0m\n\u001b[1;32m      4\u001b[0m \u001b[0;31m# Save the efficiency model using joblib\u001b[0m\u001b[0;34m\u001b[0m\u001b[0;34m\u001b[0m\u001b[0m\n\u001b[1;32m      5\u001b[0m \u001b[0mjoblib\u001b[0m\u001b[0;34m.\u001b[0m\u001b[0mdump\u001b[0m\u001b[0;34m(\u001b[0m\u001b[0mefficiency_model\u001b[0m\u001b[0;34m,\u001b[0m \u001b[0;34m'efficiency_model.joblib'\u001b[0m\u001b[0;34m)\u001b[0m\u001b[0;34m\u001b[0m\u001b[0;34m\u001b[0m\u001b[0m\n",
            "\u001b[0;31mImportError\u001b[0m: cannot import name 'joblib' from 'sklearn.externals' (/usr/local/lib/python3.10/dist-packages/sklearn/externals/__init__.py)",
            "",
            "\u001b[0;31m---------------------------------------------------------------------------\u001b[0;32m\nNOTE: If your import is failing due to a missing package, you can\nmanually install dependencies using either !pip or !apt.\n\nTo view examples of installing some common dependencies, click the\n\"Open Examples\" button below.\n\u001b[0;31m---------------------------------------------------------------------------\u001b[0m\n"
          ],
          "errorDetails": {
            "actions": [
              {
                "action": "open_url",
                "actionText": "Open Examples",
                "url": "/notebooks/snippets/importing_libraries.ipynb"
              }
            ]
          }
        }
      ]
    },
    {
      "cell_type": "code",
      "source": [
        "import joblib\n",
        "\n",
        "# Save the efficiency model using joblib\n",
        "joblib.dump(efficiency_model, 'efficiency_model.joblib')\n",
        "\n",
        "# Download the model\n",
        "from google.colab import files\n",
        "files.download('efficiency_model.joblib')\n"
      ],
      "metadata": {
        "colab": {
          "base_uri": "https://localhost:8080/",
          "height": 17
        },
        "id": "MXzf8mb4aX1n",
        "outputId": "1f9a46cd-458d-4933-bee2-ce6a0dbd9520"
      },
      "execution_count": 49,
      "outputs": [
        {
          "output_type": "display_data",
          "data": {
            "text/plain": [
              "<IPython.core.display.Javascript object>"
            ],
            "application/javascript": [
              "\n",
              "    async function download(id, filename, size) {\n",
              "      if (!google.colab.kernel.accessAllowed) {\n",
              "        return;\n",
              "      }\n",
              "      const div = document.createElement('div');\n",
              "      const label = document.createElement('label');\n",
              "      label.textContent = `Downloading \"${filename}\": `;\n",
              "      div.appendChild(label);\n",
              "      const progress = document.createElement('progress');\n",
              "      progress.max = size;\n",
              "      div.appendChild(progress);\n",
              "      document.body.appendChild(div);\n",
              "\n",
              "      const buffers = [];\n",
              "      let downloaded = 0;\n",
              "\n",
              "      const channel = await google.colab.kernel.comms.open(id);\n",
              "      // Send a message to notify the kernel that we're ready.\n",
              "      channel.send({})\n",
              "\n",
              "      for await (const message of channel.messages) {\n",
              "        // Send a message to notify the kernel that we're ready.\n",
              "        channel.send({})\n",
              "        if (message.buffers) {\n",
              "          for (const buffer of message.buffers) {\n",
              "            buffers.push(buffer);\n",
              "            downloaded += buffer.byteLength;\n",
              "            progress.value = downloaded;\n",
              "          }\n",
              "        }\n",
              "      }\n",
              "      const blob = new Blob(buffers, {type: 'application/binary'});\n",
              "      const a = document.createElement('a');\n",
              "      a.href = window.URL.createObjectURL(blob);\n",
              "      a.download = filename;\n",
              "      div.appendChild(a);\n",
              "      a.click();\n",
              "      div.remove();\n",
              "    }\n",
              "  "
            ]
          },
          "metadata": {}
        },
        {
          "output_type": "display_data",
          "data": {
            "text/plain": [
              "<IPython.core.display.Javascript object>"
            ],
            "application/javascript": [
              "download(\"download_d40883e5-bf0f-443b-819f-8b07a67e8009\", \"efficiency_model.joblib\", 618)"
            ]
          },
          "metadata": {}
        }
      ]
    },
    {
      "cell_type": "code",
      "source": [
        "import joblib\n",
        "import pandas as pd\n",
        "\n",
        "# Load the efficiency model\n",
        "efficiency_model = joblib.load('/content/efficiency_model.pkl')\n",
        "\n",
        "# Create new input data for prediction\n",
        "# Adjust this according to your feature set (RT, kW_Tot, etc.)\n",
        "input_data = pd.DataFrame({\n",
        "    'RT': [200.0],     # Example value for RT\n",
        "    'kW_Tot': [210.0]  # Example value for kW_Tot\n",
        "})\n",
        "\n",
        "# Make predictions\n",
        "predictions = efficiency_model.predict(input_data)\n",
        "\n",
        "# Output predictions\n",
        "print(\"Predicted Efficiency:\", predictions)\n"
      ],
      "metadata": {
        "colab": {
          "base_uri": "https://localhost:8080/"
        },
        "id": "9gj6fmKtazHc",
        "outputId": "152bec6c-dbb3-4eeb-a558-49a196ccd977"
      },
      "execution_count": 50,
      "outputs": [
        {
          "output_type": "stream",
          "name": "stdout",
          "text": [
            "Predicted Efficiency: [772.98527279]\n"
          ]
        },
        {
          "output_type": "stream",
          "name": "stderr",
          "text": [
            "/usr/local/lib/python3.10/dist-packages/sklearn/base.py:458: UserWarning: X has feature names, but LinearRegression was fitted without feature names\n",
            "  warnings.warn(\n"
          ]
        }
      ]
    },
    {
      "cell_type": "code",
      "source": [
        "from google.colab import files\n",
        "\n",
        "# Download the efficiency model\n",
        "files.download('/content/efficiency_model.pkl')\n"
      ],
      "metadata": {
        "colab": {
          "base_uri": "https://localhost:8080/",
          "height": 17
        },
        "id": "B2I3gcnEa85k",
        "outputId": "ee4ac4b0-24cf-4d10-9ee5-328dcffd5174"
      },
      "execution_count": 51,
      "outputs": [
        {
          "output_type": "display_data",
          "data": {
            "text/plain": [
              "<IPython.core.display.Javascript object>"
            ],
            "application/javascript": [
              "\n",
              "    async function download(id, filename, size) {\n",
              "      if (!google.colab.kernel.accessAllowed) {\n",
              "        return;\n",
              "      }\n",
              "      const div = document.createElement('div');\n",
              "      const label = document.createElement('label');\n",
              "      label.textContent = `Downloading \"${filename}\": `;\n",
              "      div.appendChild(label);\n",
              "      const progress = document.createElement('progress');\n",
              "      progress.max = size;\n",
              "      div.appendChild(progress);\n",
              "      document.body.appendChild(div);\n",
              "\n",
              "      const buffers = [];\n",
              "      let downloaded = 0;\n",
              "\n",
              "      const channel = await google.colab.kernel.comms.open(id);\n",
              "      // Send a message to notify the kernel that we're ready.\n",
              "      channel.send({})\n",
              "\n",
              "      for await (const message of channel.messages) {\n",
              "        // Send a message to notify the kernel that we're ready.\n",
              "        channel.send({})\n",
              "        if (message.buffers) {\n",
              "          for (const buffer of message.buffers) {\n",
              "            buffers.push(buffer);\n",
              "            downloaded += buffer.byteLength;\n",
              "            progress.value = downloaded;\n",
              "          }\n",
              "        }\n",
              "      }\n",
              "      const blob = new Blob(buffers, {type: 'application/binary'});\n",
              "      const a = document.createElement('a');\n",
              "      a.href = window.URL.createObjectURL(blob);\n",
              "      a.download = filename;\n",
              "      div.appendChild(a);\n",
              "      a.click();\n",
              "      div.remove();\n",
              "    }\n",
              "  "
            ]
          },
          "metadata": {}
        },
        {
          "output_type": "display_data",
          "data": {
            "text/plain": [
              "<IPython.core.display.Javascript object>"
            ],
            "application/javascript": [
              "download(\"download_3a0a42f2-b5d5-4378-828c-7238bff5bbdc\", \"efficiency_model.pkl\", 469)"
            ]
          },
          "metadata": {}
        }
      ]
    },
    {
      "cell_type": "code",
      "source": [
        "import dask.dataframe as dd\n",
        "import pandas as pd\n",
        "from sklearn.ensemble import RandomForestRegressor\n",
        "from sklearn.metrics import mean_absolute_error, mean_squared_error\n",
        "from sklearn.model_selection import train_test_split\n",
        "import joblib\n",
        "\n",
        "# Step 1: Load the Temperature Data\n",
        "temperature_data = dd.read_csv('/content/ECCO-19400_19400_-sensors-data-_3_.csv', assume_missing=True)\n",
        "print(\"Temperature Data:\")\n",
        "print(temperature_data.head())\n",
        "\n",
        "# Step 2: Clean the Temperature Data\n",
        "temperature_data['DateTime'] = dd.to_datetime(temperature_data['DateTime'], errors='coerce')\n",
        "temperature_data = temperature_data.map_partitions(lambda df: df.ffill())\n",
        "temperature_data = temperature_data.compute()  # Compute to get the cleaned data\n",
        "print(\"Cleaned Temperature Data:\")\n",
        "print(temperature_data.head())\n",
        "\n",
        "# Step 3: Define Features and Target for Temperature Data\n",
        "temperature_features = ['Temperature [°C]', 'RH [%]', 'WBT_C']\n",
        "# Check available columns\n",
        "print(\"Available columns in temperature data:\", temperature_data.columns)\n",
        "\n",
        "# Update the target variable based on your data (change 'RT' to an appropriate column)\n",
        "temperature_target = 'Temperature [°C]'  # Example target, adjust as needed\n",
        "\n",
        "# Ensure target has no missing values\n",
        "X_temp = temperature_data[temperature_features]\n",
        "y_temp = temperature_data[temperature_target].dropna()\n",
        "X_temp = X_temp.loc[y_temp.index]  # Align X with y\n",
        "\n",
        "# Step 4: Train-Test Split for Temperature Data\n",
        "X_temp_train, X_temp_test, y_temp_train, y_temp_test = train_test_split(X_temp, y_temp, test_size=0.2, random_state=42)\n",
        "\n",
        "# Step 5: Model Training for Temperature Data\n",
        "temp_model = RandomForestRegressor(n_estimators=100, random_state=42)\n",
        "temp_model.fit(X_temp_train, y_temp_train)\n",
        "\n",
        "# Step 6: Make Predictions and Evaluate the Model for Temperature Data\n",
        "y_temp_pred = temp_model.predict(X_temp_test)\n",
        "temp_mae = mean_absolute_error(y_temp_test, y_temp_pred)\n",
        "temp_rmse = mean_squared_error(y_temp_test, y_temp_pred, squared=False)\n",
        "\n",
        "print(f'Temperature Data - Mean Absolute Error (MAE): {temp_mae}')\n",
        "print(f'Temperature Data - Root Mean Squared Error (RMSE): {temp_rmse}')\n",
        "\n",
        "# Step 7: Save the Temperature Model\n",
        "joblib.dump(temp_model, 'temperature_model.pkl')\n",
        "\n",
        "# ----------------------------------\n",
        "\n",
        "# Step 8: Load the Efficiency Data\n",
        "efficiency_data = dd.read_csv('/content/TableData (6).csv', assume_missing=True)\n",
        "print(\"Efficiency Data:\")\n",
        "print(efficiency_data.head())\n",
        "\n",
        "# Step 9: Clean the Efficiency Data\n",
        "efficiency_data['Time'] = dd.to_datetime(efficiency_data['Time'], errors='coerce')\n",
        "efficiency_data = efficiency_data.map_partitions(lambda df: df.ffill())\n",
        "efficiency_data = efficiency_data.compute()  # Compute to get the cleaned data\n",
        "print(\"Cleaned Efficiency Data:\")\n",
        "print(efficiency_data.head())\n",
        "\n",
        "# Step 10: Define Features and Target for Efficiency Data\n",
        "efficiency_features = ['kW_RT', 'CH Load']  # Choose relevant features\n",
        "# Check available columns\n",
        "print(\"Available columns in efficiency data:\", efficiency_data.columns)\n",
        "\n",
        "# Update the target variable based on your data\n",
        "efficiency_target = 'kW_Tot'  # Example target, adjust as needed\n",
        "\n",
        "# Ensure target has no missing values\n",
        "X_eff = efficiency_data[efficiency_features]\n",
        "y_eff = efficiency_data[efficiency_target].dropna()\n",
        "X_eff = X_eff.loc[y_eff.index]  # Align X with y\n",
        "\n",
        "# Step 11: Train-Test Split for Efficiency Data\n",
        "X_eff_train, X_eff_test, y_eff_train, y_eff_test = train_test_split(X_eff, y_eff, test_size=0.2, random_state=42)\n",
        "\n",
        "# Step 12: Model Training for Efficiency Data\n",
        "eff_model = RandomForestRegressor(n_estimators=100, random_state=42)\n",
        "eff_model.fit(X_eff_train, y_eff_train)\n",
        "\n",
        "# Step 13: Make Predictions and Evaluate the Model for Efficiency Data\n",
        "y_eff_pred = eff_model.predict(X_eff_test)\n",
        "eff_mae = mean_absolute_error(y_eff_test, y_eff_pred)\n",
        "eff_rmse = mean_squared_error(y_eff_test, y_eff_pred, squared=False)\n",
        "\n",
        "print(f'Efficiency Data - Mean Absolute Error (MAE): {eff_mae}')\n",
        "print(f'Efficiency Data - Root Mean Squared Error (RMSE): {eff_rmse}')\n",
        "\n",
        "# Step 14: Save the Efficiency Model\n",
        "joblib.dump(eff_model, 'efficiency_model.pkl')"
      ],
      "metadata": {
        "colab": {
          "base_uri": "https://localhost:8080/"
        },
        "id": "QfDguu4-bGH4",
        "outputId": "47df2d8a-95df-468b-bd1f-792ea89235dc"
      },
      "execution_count": 52,
      "outputs": [
        {
          "output_type": "stream",
          "name": "stdout",
          "text": [
            "Temperature Data:\n",
            "                  DateTime  RH [%]  Temperature [°C]  WBT_C\n",
            "0  2024-03-01 00:00:42.000    68.4              30.8   26.1\n",
            "1  2024-03-01 00:10:42.000    68.3              30.8   26.1\n",
            "2  2024-03-01 00:20:42.000    68.3              30.8   26.0\n",
            "3  2024-03-01 00:30:42.000    68.4              30.8   26.1\n",
            "4  2024-03-01 00:40:42.000    68.6              30.7   26.0\n",
            "Cleaned Temperature Data:\n",
            "             DateTime  RH [%]  Temperature [°C]  WBT_C\n",
            "0 2024-03-01 00:00:42    68.4              30.8   26.1\n",
            "1 2024-03-01 00:10:42    68.3              30.8   26.1\n",
            "2 2024-03-01 00:20:42    68.3              30.8   26.0\n",
            "3 2024-03-01 00:30:42    68.4              30.8   26.1\n",
            "4 2024-03-01 00:40:42    68.6              30.7   26.0\n",
            "Available columns in temperature data: Index(['DateTime', 'RH [%]', 'Temperature [°C]', 'WBT_C'], dtype='object')\n",
            "Temperature Data - Mean Absolute Error (MAE): 0.0002807547170267368\n",
            "Temperature Data - Root Mean Squared Error (RMSE): 0.010912101642861036\n",
            "Efficiency Data:\n",
            "                  Time     RT  kW_Tot  kW_RT  CH Load  CH1  CH2  CH3  CH4  \\\n",
            "0  2023-12-01T00:00:00  201.2   208.7  1.037     39.6  0.0  1.0  0.0  0.0   \n",
            "1  2023-12-01T00:10:00  180.5   203.5  1.127     38.4  0.0  1.0  0.0  0.0   \n",
            "2  2023-12-01T00:20:00  170.2   200.8  1.179     37.6  0.0  1.0  0.0  0.0   \n",
            "3  2023-12-01T00:30:00  184.9   201.2  1.088     37.8  0.0  1.0  0.0  0.0   \n",
            "4  2023-12-01T00:40:00  176.4   181.4  1.028     34.6  0.0  1.0  0.0  0.0   \n",
            "\n",
            "   kW_CHH  ...   WBT  DeltaCT  Hz_ CHP  Hz_CHS  Hz_CDS  Hz_CT  Precent_CH  \\\n",
            "0   135.6  ...  75.6     -2.4     48.0     0.0    47.0   47.0        65.0   \n",
            "1   130.4  ...  75.6     -2.3     48.0     0.0    47.0   47.0        64.1   \n",
            "2   127.8  ...  75.6     -2.2     48.0     0.0    47.0   47.0        63.6   \n",
            "3   128.3  ...  75.6     -2.0     48.0     0.0    47.0   47.0        63.8   \n",
            "4   117.6  ...  75.6     -2.2     48.0     0.0    47.0   47.0        64.8   \n",
            "\n",
            "   Precent_ CHP  Precent_CDS  Precent_CT  \n",
            "0          11.2         14.8         9.1  \n",
            "1          11.5         15.2         9.3  \n",
            "2          11.6         15.4         9.4  \n",
            "3          11.6         15.2         9.4  \n",
            "4          13.3         17.0         4.9  \n",
            "\n",
            "[5 rows x 31 columns]\n",
            "Cleaned Efficiency Data:\n",
            "                 Time     RT  kW_Tot  kW_RT  CH Load  CH1  CH2  CH3  CH4  \\\n",
            "0 2023-12-01 00:00:00  201.2   208.7  1.037     39.6  0.0  1.0  0.0  0.0   \n",
            "1 2023-12-01 00:10:00  180.5   203.5  1.127     38.4  0.0  1.0  0.0  0.0   \n",
            "2 2023-12-01 00:20:00  170.2   200.8  1.179     37.6  0.0  1.0  0.0  0.0   \n",
            "3 2023-12-01 00:30:00  184.9   201.2  1.088     37.8  0.0  1.0  0.0  0.0   \n",
            "4 2023-12-01 00:40:00  176.4   181.4  1.028     34.6  0.0  1.0  0.0  0.0   \n",
            "\n",
            "   kW_CHH  ...   WBT  DeltaCT  Hz_ CHP  Hz_CHS  Hz_CDS  Hz_CT  Precent_CH  \\\n",
            "0   135.6  ...  75.6     -2.4     48.0     0.0    47.0   47.0        65.0   \n",
            "1   130.4  ...  75.6     -2.3     48.0     0.0    47.0   47.0        64.1   \n",
            "2   127.8  ...  75.6     -2.2     48.0     0.0    47.0   47.0        63.6   \n",
            "3   128.3  ...  75.6     -2.0     48.0     0.0    47.0   47.0        63.8   \n",
            "4   117.6  ...  75.6     -2.2     48.0     0.0    47.0   47.0        64.8   \n",
            "\n",
            "   Precent_ CHP  Precent_CDS  Precent_CT  \n",
            "0          11.2         14.8         9.1  \n",
            "1          11.5         15.2         9.3  \n",
            "2          11.6         15.4         9.4  \n",
            "3          11.6         15.2         9.4  \n",
            "4          13.3         17.0         4.9  \n",
            "\n",
            "[5 rows x 31 columns]\n",
            "Available columns in efficiency data: Index(['Time', 'RT', 'kW_Tot', 'kW_RT', 'CH Load', 'CH1', 'CH2', 'CH3', 'CH4',\n",
            "       'kW_CHH', 'kW_CHP', 'kW_CHS', 'kW_CDS', 'kW_CT', 'GPM', 'DeltaCHW',\n",
            "       'CHWS', 'CHWR', 'DeltaCDW', 'CDHI', 'CDLO', 'WBT', 'DeltaCT', 'Hz_ CHP',\n",
            "       'Hz_CHS', 'Hz_CDS', 'Hz_CT', 'Precent_CH', 'Precent_ CHP',\n",
            "       'Precent_CDS', 'Precent_CT'],\n",
            "      dtype='object')\n",
            "Efficiency Data - Mean Absolute Error (MAE): 3.691321878802751\n",
            "Efficiency Data - Root Mean Squared Error (RMSE): 6.536817696235996\n"
          ]
        },
        {
          "output_type": "execute_result",
          "data": {
            "text/plain": [
              "['efficiency_model.pkl']"
            ]
          },
          "metadata": {},
          "execution_count": 52
        }
      ]
    },
    {
      "cell_type": "code",
      "source": [
        "from google.colab import files\n",
        "\n",
        "# Download the efficiency model\n",
        "files.download('/content/efficiency_model.pkl')"
      ],
      "metadata": {
        "colab": {
          "base_uri": "https://localhost:8080/",
          "height": 17
        },
        "id": "WqtCCtvibLya",
        "outputId": "334eeaa9-7561-419e-b105-5dc34bbbc591"
      },
      "execution_count": 53,
      "outputs": [
        {
          "output_type": "display_data",
          "data": {
            "text/plain": [
              "<IPython.core.display.Javascript object>"
            ],
            "application/javascript": [
              "\n",
              "    async function download(id, filename, size) {\n",
              "      if (!google.colab.kernel.accessAllowed) {\n",
              "        return;\n",
              "      }\n",
              "      const div = document.createElement('div');\n",
              "      const label = document.createElement('label');\n",
              "      label.textContent = `Downloading \"${filename}\": `;\n",
              "      div.appendChild(label);\n",
              "      const progress = document.createElement('progress');\n",
              "      progress.max = size;\n",
              "      div.appendChild(progress);\n",
              "      document.body.appendChild(div);\n",
              "\n",
              "      const buffers = [];\n",
              "      let downloaded = 0;\n",
              "\n",
              "      const channel = await google.colab.kernel.comms.open(id);\n",
              "      // Send a message to notify the kernel that we're ready.\n",
              "      channel.send({})\n",
              "\n",
              "      for await (const message of channel.messages) {\n",
              "        // Send a message to notify the kernel that we're ready.\n",
              "        channel.send({})\n",
              "        if (message.buffers) {\n",
              "          for (const buffer of message.buffers) {\n",
              "            buffers.push(buffer);\n",
              "            downloaded += buffer.byteLength;\n",
              "            progress.value = downloaded;\n",
              "          }\n",
              "        }\n",
              "      }\n",
              "      const blob = new Blob(buffers, {type: 'application/binary'});\n",
              "      const a = document.createElement('a');\n",
              "      a.href = window.URL.createObjectURL(blob);\n",
              "      a.download = filename;\n",
              "      div.appendChild(a);\n",
              "      a.click();\n",
              "      div.remove();\n",
              "    }\n",
              "  "
            ]
          },
          "metadata": {}
        },
        {
          "output_type": "display_data",
          "data": {
            "text/plain": [
              "<IPython.core.display.Javascript object>"
            ],
            "application/javascript": [
              "download(\"download_11ec29cc-51eb-42c7-ab6f-13763190c049\", \"efficiency_model.pkl\", 30460001)"
            ]
          },
          "metadata": {}
        }
      ]
    },
    {
      "cell_type": "code",
      "source": [
        "import joblib\n",
        "import pandas as pd\n",
        "\n",
        "# Load the efficiency model\n",
        "efficiency_model = joblib.load('/content/efficiency_model.pkl')\n",
        "\n",
        "# Create new input data for prediction\n",
        "# Adjust these values according to your feature set\n",
        "input_data = pd.DataFrame({\n",
        "    'RT': [200.0],     # Example value for RT\n",
        "    'kW_Tot': [210.0]  # Example value for kW_Tot\n",
        "})\n",
        "\n",
        "# Make predictions\n",
        "predictions = efficiency_model.predict(input_data)\n",
        "\n",
        "# Output predictions\n",
        "print(\"Predicted Efficiency:\", predictions[0])\n",
        "\n"
      ],
      "metadata": {
        "colab": {
          "base_uri": "https://localhost:8080/",
          "height": 460
        },
        "id": "5qPTtJ8Gg2wx",
        "outputId": "03444e06-220b-40a8-b7bb-3b566764427a"
      },
      "execution_count": 54,
      "outputs": [
        {
          "output_type": "error",
          "ename": "ValueError",
          "evalue": "The feature names should match those that were passed during fit.\nFeature names unseen at fit time:\n- RT\n- kW_Tot\nFeature names seen at fit time, yet now missing:\n- CH Load\n- kW_RT\n",
          "traceback": [
            "\u001b[0;31m---------------------------------------------------------------------------\u001b[0m",
            "\u001b[0;31mValueError\u001b[0m                                Traceback (most recent call last)",
            "\u001b[0;32m<ipython-input-54-29a96b9f7bd6>\u001b[0m in \u001b[0;36m<cell line: 15>\u001b[0;34m()\u001b[0m\n\u001b[1;32m     13\u001b[0m \u001b[0;34m\u001b[0m\u001b[0m\n\u001b[1;32m     14\u001b[0m \u001b[0;31m# Make predictions\u001b[0m\u001b[0;34m\u001b[0m\u001b[0;34m\u001b[0m\u001b[0m\n\u001b[0;32m---> 15\u001b[0;31m \u001b[0mpredictions\u001b[0m \u001b[0;34m=\u001b[0m \u001b[0mefficiency_model\u001b[0m\u001b[0;34m.\u001b[0m\u001b[0mpredict\u001b[0m\u001b[0;34m(\u001b[0m\u001b[0minput_data\u001b[0m\u001b[0;34m)\u001b[0m\u001b[0;34m\u001b[0m\u001b[0;34m\u001b[0m\u001b[0m\n\u001b[0m\u001b[1;32m     16\u001b[0m \u001b[0;34m\u001b[0m\u001b[0m\n\u001b[1;32m     17\u001b[0m \u001b[0;31m# Output predictions\u001b[0m\u001b[0;34m\u001b[0m\u001b[0;34m\u001b[0m\u001b[0m\n",
            "\u001b[0;32m/usr/local/lib/python3.10/dist-packages/sklearn/ensemble/_forest.py\u001b[0m in \u001b[0;36mpredict\u001b[0;34m(self, X)\u001b[0m\n\u001b[1;32m    982\u001b[0m         \u001b[0mcheck_is_fitted\u001b[0m\u001b[0;34m(\u001b[0m\u001b[0mself\u001b[0m\u001b[0;34m)\u001b[0m\u001b[0;34m\u001b[0m\u001b[0;34m\u001b[0m\u001b[0m\n\u001b[1;32m    983\u001b[0m         \u001b[0;31m# Check data\u001b[0m\u001b[0;34m\u001b[0m\u001b[0;34m\u001b[0m\u001b[0m\n\u001b[0;32m--> 984\u001b[0;31m         \u001b[0mX\u001b[0m \u001b[0;34m=\u001b[0m \u001b[0mself\u001b[0m\u001b[0;34m.\u001b[0m\u001b[0m_validate_X_predict\u001b[0m\u001b[0;34m(\u001b[0m\u001b[0mX\u001b[0m\u001b[0;34m)\u001b[0m\u001b[0;34m\u001b[0m\u001b[0;34m\u001b[0m\u001b[0m\n\u001b[0m\u001b[1;32m    985\u001b[0m \u001b[0;34m\u001b[0m\u001b[0m\n\u001b[1;32m    986\u001b[0m         \u001b[0;31m# Assign chunk of trees to jobs\u001b[0m\u001b[0;34m\u001b[0m\u001b[0;34m\u001b[0m\u001b[0m\n",
            "\u001b[0;32m/usr/local/lib/python3.10/dist-packages/sklearn/ensemble/_forest.py\u001b[0m in \u001b[0;36m_validate_X_predict\u001b[0;34m(self, X)\u001b[0m\n\u001b[1;32m    597\u001b[0m         Validate X whenever one tries to predict, apply, predict_proba.\"\"\"\n\u001b[1;32m    598\u001b[0m         \u001b[0mcheck_is_fitted\u001b[0m\u001b[0;34m(\u001b[0m\u001b[0mself\u001b[0m\u001b[0;34m)\u001b[0m\u001b[0;34m\u001b[0m\u001b[0;34m\u001b[0m\u001b[0m\n\u001b[0;32m--> 599\u001b[0;31m         \u001b[0mX\u001b[0m \u001b[0;34m=\u001b[0m \u001b[0mself\u001b[0m\u001b[0;34m.\u001b[0m\u001b[0m_validate_data\u001b[0m\u001b[0;34m(\u001b[0m\u001b[0mX\u001b[0m\u001b[0;34m,\u001b[0m \u001b[0mdtype\u001b[0m\u001b[0;34m=\u001b[0m\u001b[0mDTYPE\u001b[0m\u001b[0;34m,\u001b[0m \u001b[0maccept_sparse\u001b[0m\u001b[0;34m=\u001b[0m\u001b[0;34m\"csr\"\u001b[0m\u001b[0;34m,\u001b[0m \u001b[0mreset\u001b[0m\u001b[0;34m=\u001b[0m\u001b[0;32mFalse\u001b[0m\u001b[0;34m)\u001b[0m\u001b[0;34m\u001b[0m\u001b[0;34m\u001b[0m\u001b[0m\n\u001b[0m\u001b[1;32m    600\u001b[0m         \u001b[0;32mif\u001b[0m \u001b[0missparse\u001b[0m\u001b[0;34m(\u001b[0m\u001b[0mX\u001b[0m\u001b[0;34m)\u001b[0m \u001b[0;32mand\u001b[0m \u001b[0;34m(\u001b[0m\u001b[0mX\u001b[0m\u001b[0;34m.\u001b[0m\u001b[0mindices\u001b[0m\u001b[0;34m.\u001b[0m\u001b[0mdtype\u001b[0m \u001b[0;34m!=\u001b[0m \u001b[0mnp\u001b[0m\u001b[0;34m.\u001b[0m\u001b[0mintc\u001b[0m \u001b[0;32mor\u001b[0m \u001b[0mX\u001b[0m\u001b[0;34m.\u001b[0m\u001b[0mindptr\u001b[0m\u001b[0;34m.\u001b[0m\u001b[0mdtype\u001b[0m \u001b[0;34m!=\u001b[0m \u001b[0mnp\u001b[0m\u001b[0;34m.\u001b[0m\u001b[0mintc\u001b[0m\u001b[0;34m)\u001b[0m\u001b[0;34m:\u001b[0m\u001b[0;34m\u001b[0m\u001b[0;34m\u001b[0m\u001b[0m\n\u001b[1;32m    601\u001b[0m             \u001b[0;32mraise\u001b[0m \u001b[0mValueError\u001b[0m\u001b[0;34m(\u001b[0m\u001b[0;34m\"No support for np.int64 index based sparse matrices\"\u001b[0m\u001b[0;34m)\u001b[0m\u001b[0;34m\u001b[0m\u001b[0;34m\u001b[0m\u001b[0m\n",
            "\u001b[0;32m/usr/local/lib/python3.10/dist-packages/sklearn/base.py\u001b[0m in \u001b[0;36m_validate_data\u001b[0;34m(self, X, y, reset, validate_separately, cast_to_ndarray, **check_params)\u001b[0m\n\u001b[1;32m    578\u001b[0m             \u001b[0mvalidated\u001b[0m\u001b[0;34m.\u001b[0m\u001b[0;34m\u001b[0m\u001b[0;34m\u001b[0m\u001b[0m\n\u001b[1;32m    579\u001b[0m         \"\"\"\n\u001b[0;32m--> 580\u001b[0;31m         \u001b[0mself\u001b[0m\u001b[0;34m.\u001b[0m\u001b[0m_check_feature_names\u001b[0m\u001b[0;34m(\u001b[0m\u001b[0mX\u001b[0m\u001b[0;34m,\u001b[0m \u001b[0mreset\u001b[0m\u001b[0;34m=\u001b[0m\u001b[0mreset\u001b[0m\u001b[0;34m)\u001b[0m\u001b[0;34m\u001b[0m\u001b[0;34m\u001b[0m\u001b[0m\n\u001b[0m\u001b[1;32m    581\u001b[0m \u001b[0;34m\u001b[0m\u001b[0m\n\u001b[1;32m    582\u001b[0m         \u001b[0;32mif\u001b[0m \u001b[0my\u001b[0m \u001b[0;32mis\u001b[0m \u001b[0;32mNone\u001b[0m \u001b[0;32mand\u001b[0m \u001b[0mself\u001b[0m\u001b[0;34m.\u001b[0m\u001b[0m_get_tags\u001b[0m\u001b[0;34m(\u001b[0m\u001b[0;34m)\u001b[0m\u001b[0;34m[\u001b[0m\u001b[0;34m\"requires_y\"\u001b[0m\u001b[0;34m]\u001b[0m\u001b[0;34m:\u001b[0m\u001b[0;34m\u001b[0m\u001b[0;34m\u001b[0m\u001b[0m\n",
            "\u001b[0;32m/usr/local/lib/python3.10/dist-packages/sklearn/base.py\u001b[0m in \u001b[0;36m_check_feature_names\u001b[0;34m(self, X, reset)\u001b[0m\n\u001b[1;32m    505\u001b[0m                 )\n\u001b[1;32m    506\u001b[0m \u001b[0;34m\u001b[0m\u001b[0m\n\u001b[0;32m--> 507\u001b[0;31m             \u001b[0;32mraise\u001b[0m \u001b[0mValueError\u001b[0m\u001b[0;34m(\u001b[0m\u001b[0mmessage\u001b[0m\u001b[0;34m)\u001b[0m\u001b[0;34m\u001b[0m\u001b[0;34m\u001b[0m\u001b[0m\n\u001b[0m\u001b[1;32m    508\u001b[0m \u001b[0;34m\u001b[0m\u001b[0m\n\u001b[1;32m    509\u001b[0m     def _validate_data(\n",
            "\u001b[0;31mValueError\u001b[0m: The feature names should match those that were passed during fit.\nFeature names unseen at fit time:\n- RT\n- kW_Tot\nFeature names seen at fit time, yet now missing:\n- CH Load\n- kW_RT\n"
          ]
        }
      ]
    },
    {
      "cell_type": "code",
      "source": [
        "import joblib\n",
        "import pandas as pd\n",
        "\n",
        "# Load the efficiency model\n",
        "efficiency_model = joblib.load('/content/efficiency_model.pkl')\n",
        "\n",
        "# Create new input data for prediction with correct features\n",
        "input_data = pd.DataFrame({\n",
        "    'CH Load': [39.6],  # Example value for CH Load\n",
        "    'RT': [200.0],      # Example value for RT\n",
        "    'kW_RT': [1.037],   # Example value for kW_RT\n",
        "    'kW_Tot': [210.0],  # Example value for kW_Tot\n",
        "    # Include any other features your model requires\n",
        "})\n",
        "\n",
        "# Make predictions\n",
        "predictions = efficiency_model.predict(input_data)\n",
        "\n",
        "# Output predictions\n",
        "print(\"Predicted Efficiency:\", predictions[0])\n"
      ],
      "metadata": {
        "colab": {
          "base_uri": "https://localhost:8080/",
          "height": 408
        },
        "id": "gBUDDpUog-x_",
        "outputId": "22b0297e-c818-4de1-9a4b-fd04467a920c"
      },
      "execution_count": 55,
      "outputs": [
        {
          "output_type": "error",
          "ename": "ValueError",
          "evalue": "The feature names should match those that were passed during fit.\nFeature names unseen at fit time:\n- RT\n- kW_Tot\n",
          "traceback": [
            "\u001b[0;31m---------------------------------------------------------------------------\u001b[0m",
            "\u001b[0;31mValueError\u001b[0m                                Traceback (most recent call last)",
            "\u001b[0;32m<ipython-input-55-608e54c7ab2b>\u001b[0m in \u001b[0;36m<cell line: 17>\u001b[0;34m()\u001b[0m\n\u001b[1;32m     15\u001b[0m \u001b[0;34m\u001b[0m\u001b[0m\n\u001b[1;32m     16\u001b[0m \u001b[0;31m# Make predictions\u001b[0m\u001b[0;34m\u001b[0m\u001b[0;34m\u001b[0m\u001b[0m\n\u001b[0;32m---> 17\u001b[0;31m \u001b[0mpredictions\u001b[0m \u001b[0;34m=\u001b[0m \u001b[0mefficiency_model\u001b[0m\u001b[0;34m.\u001b[0m\u001b[0mpredict\u001b[0m\u001b[0;34m(\u001b[0m\u001b[0minput_data\u001b[0m\u001b[0;34m)\u001b[0m\u001b[0;34m\u001b[0m\u001b[0;34m\u001b[0m\u001b[0m\n\u001b[0m\u001b[1;32m     18\u001b[0m \u001b[0;34m\u001b[0m\u001b[0m\n\u001b[1;32m     19\u001b[0m \u001b[0;31m# Output predictions\u001b[0m\u001b[0;34m\u001b[0m\u001b[0;34m\u001b[0m\u001b[0m\n",
            "\u001b[0;32m/usr/local/lib/python3.10/dist-packages/sklearn/ensemble/_forest.py\u001b[0m in \u001b[0;36mpredict\u001b[0;34m(self, X)\u001b[0m\n\u001b[1;32m    982\u001b[0m         \u001b[0mcheck_is_fitted\u001b[0m\u001b[0;34m(\u001b[0m\u001b[0mself\u001b[0m\u001b[0;34m)\u001b[0m\u001b[0;34m\u001b[0m\u001b[0;34m\u001b[0m\u001b[0m\n\u001b[1;32m    983\u001b[0m         \u001b[0;31m# Check data\u001b[0m\u001b[0;34m\u001b[0m\u001b[0;34m\u001b[0m\u001b[0m\n\u001b[0;32m--> 984\u001b[0;31m         \u001b[0mX\u001b[0m \u001b[0;34m=\u001b[0m \u001b[0mself\u001b[0m\u001b[0;34m.\u001b[0m\u001b[0m_validate_X_predict\u001b[0m\u001b[0;34m(\u001b[0m\u001b[0mX\u001b[0m\u001b[0;34m)\u001b[0m\u001b[0;34m\u001b[0m\u001b[0;34m\u001b[0m\u001b[0m\n\u001b[0m\u001b[1;32m    985\u001b[0m \u001b[0;34m\u001b[0m\u001b[0m\n\u001b[1;32m    986\u001b[0m         \u001b[0;31m# Assign chunk of trees to jobs\u001b[0m\u001b[0;34m\u001b[0m\u001b[0;34m\u001b[0m\u001b[0m\n",
            "\u001b[0;32m/usr/local/lib/python3.10/dist-packages/sklearn/ensemble/_forest.py\u001b[0m in \u001b[0;36m_validate_X_predict\u001b[0;34m(self, X)\u001b[0m\n\u001b[1;32m    597\u001b[0m         Validate X whenever one tries to predict, apply, predict_proba.\"\"\"\n\u001b[1;32m    598\u001b[0m         \u001b[0mcheck_is_fitted\u001b[0m\u001b[0;34m(\u001b[0m\u001b[0mself\u001b[0m\u001b[0;34m)\u001b[0m\u001b[0;34m\u001b[0m\u001b[0;34m\u001b[0m\u001b[0m\n\u001b[0;32m--> 599\u001b[0;31m         \u001b[0mX\u001b[0m \u001b[0;34m=\u001b[0m \u001b[0mself\u001b[0m\u001b[0;34m.\u001b[0m\u001b[0m_validate_data\u001b[0m\u001b[0;34m(\u001b[0m\u001b[0mX\u001b[0m\u001b[0;34m,\u001b[0m \u001b[0mdtype\u001b[0m\u001b[0;34m=\u001b[0m\u001b[0mDTYPE\u001b[0m\u001b[0;34m,\u001b[0m \u001b[0maccept_sparse\u001b[0m\u001b[0;34m=\u001b[0m\u001b[0;34m\"csr\"\u001b[0m\u001b[0;34m,\u001b[0m \u001b[0mreset\u001b[0m\u001b[0;34m=\u001b[0m\u001b[0;32mFalse\u001b[0m\u001b[0;34m)\u001b[0m\u001b[0;34m\u001b[0m\u001b[0;34m\u001b[0m\u001b[0m\n\u001b[0m\u001b[1;32m    600\u001b[0m         \u001b[0;32mif\u001b[0m \u001b[0missparse\u001b[0m\u001b[0;34m(\u001b[0m\u001b[0mX\u001b[0m\u001b[0;34m)\u001b[0m \u001b[0;32mand\u001b[0m \u001b[0;34m(\u001b[0m\u001b[0mX\u001b[0m\u001b[0;34m.\u001b[0m\u001b[0mindices\u001b[0m\u001b[0;34m.\u001b[0m\u001b[0mdtype\u001b[0m \u001b[0;34m!=\u001b[0m \u001b[0mnp\u001b[0m\u001b[0;34m.\u001b[0m\u001b[0mintc\u001b[0m \u001b[0;32mor\u001b[0m \u001b[0mX\u001b[0m\u001b[0;34m.\u001b[0m\u001b[0mindptr\u001b[0m\u001b[0;34m.\u001b[0m\u001b[0mdtype\u001b[0m \u001b[0;34m!=\u001b[0m \u001b[0mnp\u001b[0m\u001b[0;34m.\u001b[0m\u001b[0mintc\u001b[0m\u001b[0;34m)\u001b[0m\u001b[0;34m:\u001b[0m\u001b[0;34m\u001b[0m\u001b[0;34m\u001b[0m\u001b[0m\n\u001b[1;32m    601\u001b[0m             \u001b[0;32mraise\u001b[0m \u001b[0mValueError\u001b[0m\u001b[0;34m(\u001b[0m\u001b[0;34m\"No support for np.int64 index based sparse matrices\"\u001b[0m\u001b[0;34m)\u001b[0m\u001b[0;34m\u001b[0m\u001b[0;34m\u001b[0m\u001b[0m\n",
            "\u001b[0;32m/usr/local/lib/python3.10/dist-packages/sklearn/base.py\u001b[0m in \u001b[0;36m_validate_data\u001b[0;34m(self, X, y, reset, validate_separately, cast_to_ndarray, **check_params)\u001b[0m\n\u001b[1;32m    578\u001b[0m             \u001b[0mvalidated\u001b[0m\u001b[0;34m.\u001b[0m\u001b[0;34m\u001b[0m\u001b[0;34m\u001b[0m\u001b[0m\n\u001b[1;32m    579\u001b[0m         \"\"\"\n\u001b[0;32m--> 580\u001b[0;31m         \u001b[0mself\u001b[0m\u001b[0;34m.\u001b[0m\u001b[0m_check_feature_names\u001b[0m\u001b[0;34m(\u001b[0m\u001b[0mX\u001b[0m\u001b[0;34m,\u001b[0m \u001b[0mreset\u001b[0m\u001b[0;34m=\u001b[0m\u001b[0mreset\u001b[0m\u001b[0;34m)\u001b[0m\u001b[0;34m\u001b[0m\u001b[0;34m\u001b[0m\u001b[0m\n\u001b[0m\u001b[1;32m    581\u001b[0m \u001b[0;34m\u001b[0m\u001b[0m\n\u001b[1;32m    582\u001b[0m         \u001b[0;32mif\u001b[0m \u001b[0my\u001b[0m \u001b[0;32mis\u001b[0m \u001b[0;32mNone\u001b[0m \u001b[0;32mand\u001b[0m \u001b[0mself\u001b[0m\u001b[0;34m.\u001b[0m\u001b[0m_get_tags\u001b[0m\u001b[0;34m(\u001b[0m\u001b[0;34m)\u001b[0m\u001b[0;34m[\u001b[0m\u001b[0;34m\"requires_y\"\u001b[0m\u001b[0;34m]\u001b[0m\u001b[0;34m:\u001b[0m\u001b[0;34m\u001b[0m\u001b[0;34m\u001b[0m\u001b[0m\n",
            "\u001b[0;32m/usr/local/lib/python3.10/dist-packages/sklearn/base.py\u001b[0m in \u001b[0;36m_check_feature_names\u001b[0;34m(self, X, reset)\u001b[0m\n\u001b[1;32m    505\u001b[0m                 )\n\u001b[1;32m    506\u001b[0m \u001b[0;34m\u001b[0m\u001b[0m\n\u001b[0;32m--> 507\u001b[0;31m             \u001b[0;32mraise\u001b[0m \u001b[0mValueError\u001b[0m\u001b[0;34m(\u001b[0m\u001b[0mmessage\u001b[0m\u001b[0;34m)\u001b[0m\u001b[0;34m\u001b[0m\u001b[0;34m\u001b[0m\u001b[0m\n\u001b[0m\u001b[1;32m    508\u001b[0m \u001b[0;34m\u001b[0m\u001b[0m\n\u001b[1;32m    509\u001b[0m     def _validate_data(\n",
            "\u001b[0;31mValueError\u001b[0m: The feature names should match those that were passed during fit.\nFeature names unseen at fit time:\n- RT\n- kW_Tot\n"
          ]
        }
      ]
    },
    {
      "cell_type": "code",
      "source": [
        "import joblib\n",
        "import pandas as pd\n",
        "\n",
        "# Load the efficiency model\n",
        "efficiency_model = joblib.load('/content/efficiency_model.pkl')\n",
        "\n",
        "# Create new input data for prediction with correct features\n",
        "input_data = pd.DataFrame({\n",
        "    'CH Load': [39.6],  # Example value for CH Load\n",
        "    'RT': [200.0],      # Example value for RT\n",
        "    'kW_RT': [1.037],   # Example value for kW_RT\n",
        "})\n",
        "\n",
        "# Make predictions\n",
        "predictions = efficiency_model.predict(input_data)\n",
        "\n",
        "# Output predictions\n",
        "print(\"Predicted Efficiency:\", predictions[0])\n"
      ],
      "metadata": {
        "colab": {
          "base_uri": "https://localhost:8080/",
          "height": 391
        },
        "id": "U-aYuVkwhHhy",
        "outputId": "44bad40e-1a0e-4811-8fe4-49894221a090"
      },
      "execution_count": 56,
      "outputs": [
        {
          "output_type": "error",
          "ename": "ValueError",
          "evalue": "The feature names should match those that were passed during fit.\nFeature names unseen at fit time:\n- RT\n",
          "traceback": [
            "\u001b[0;31m---------------------------------------------------------------------------\u001b[0m",
            "\u001b[0;31mValueError\u001b[0m                                Traceback (most recent call last)",
            "\u001b[0;32m<ipython-input-56-5e1fec7cf329>\u001b[0m in \u001b[0;36m<cell line: 15>\u001b[0;34m()\u001b[0m\n\u001b[1;32m     13\u001b[0m \u001b[0;34m\u001b[0m\u001b[0m\n\u001b[1;32m     14\u001b[0m \u001b[0;31m# Make predictions\u001b[0m\u001b[0;34m\u001b[0m\u001b[0;34m\u001b[0m\u001b[0m\n\u001b[0;32m---> 15\u001b[0;31m \u001b[0mpredictions\u001b[0m \u001b[0;34m=\u001b[0m \u001b[0mefficiency_model\u001b[0m\u001b[0;34m.\u001b[0m\u001b[0mpredict\u001b[0m\u001b[0;34m(\u001b[0m\u001b[0minput_data\u001b[0m\u001b[0;34m)\u001b[0m\u001b[0;34m\u001b[0m\u001b[0;34m\u001b[0m\u001b[0m\n\u001b[0m\u001b[1;32m     16\u001b[0m \u001b[0;34m\u001b[0m\u001b[0m\n\u001b[1;32m     17\u001b[0m \u001b[0;31m# Output predictions\u001b[0m\u001b[0;34m\u001b[0m\u001b[0;34m\u001b[0m\u001b[0m\n",
            "\u001b[0;32m/usr/local/lib/python3.10/dist-packages/sklearn/ensemble/_forest.py\u001b[0m in \u001b[0;36mpredict\u001b[0;34m(self, X)\u001b[0m\n\u001b[1;32m    982\u001b[0m         \u001b[0mcheck_is_fitted\u001b[0m\u001b[0;34m(\u001b[0m\u001b[0mself\u001b[0m\u001b[0;34m)\u001b[0m\u001b[0;34m\u001b[0m\u001b[0;34m\u001b[0m\u001b[0m\n\u001b[1;32m    983\u001b[0m         \u001b[0;31m# Check data\u001b[0m\u001b[0;34m\u001b[0m\u001b[0;34m\u001b[0m\u001b[0m\n\u001b[0;32m--> 984\u001b[0;31m         \u001b[0mX\u001b[0m \u001b[0;34m=\u001b[0m \u001b[0mself\u001b[0m\u001b[0;34m.\u001b[0m\u001b[0m_validate_X_predict\u001b[0m\u001b[0;34m(\u001b[0m\u001b[0mX\u001b[0m\u001b[0;34m)\u001b[0m\u001b[0;34m\u001b[0m\u001b[0;34m\u001b[0m\u001b[0m\n\u001b[0m\u001b[1;32m    985\u001b[0m \u001b[0;34m\u001b[0m\u001b[0m\n\u001b[1;32m    986\u001b[0m         \u001b[0;31m# Assign chunk of trees to jobs\u001b[0m\u001b[0;34m\u001b[0m\u001b[0;34m\u001b[0m\u001b[0m\n",
            "\u001b[0;32m/usr/local/lib/python3.10/dist-packages/sklearn/ensemble/_forest.py\u001b[0m in \u001b[0;36m_validate_X_predict\u001b[0;34m(self, X)\u001b[0m\n\u001b[1;32m    597\u001b[0m         Validate X whenever one tries to predict, apply, predict_proba.\"\"\"\n\u001b[1;32m    598\u001b[0m         \u001b[0mcheck_is_fitted\u001b[0m\u001b[0;34m(\u001b[0m\u001b[0mself\u001b[0m\u001b[0;34m)\u001b[0m\u001b[0;34m\u001b[0m\u001b[0;34m\u001b[0m\u001b[0m\n\u001b[0;32m--> 599\u001b[0;31m         \u001b[0mX\u001b[0m \u001b[0;34m=\u001b[0m \u001b[0mself\u001b[0m\u001b[0;34m.\u001b[0m\u001b[0m_validate_data\u001b[0m\u001b[0;34m(\u001b[0m\u001b[0mX\u001b[0m\u001b[0;34m,\u001b[0m \u001b[0mdtype\u001b[0m\u001b[0;34m=\u001b[0m\u001b[0mDTYPE\u001b[0m\u001b[0;34m,\u001b[0m \u001b[0maccept_sparse\u001b[0m\u001b[0;34m=\u001b[0m\u001b[0;34m\"csr\"\u001b[0m\u001b[0;34m,\u001b[0m \u001b[0mreset\u001b[0m\u001b[0;34m=\u001b[0m\u001b[0;32mFalse\u001b[0m\u001b[0;34m)\u001b[0m\u001b[0;34m\u001b[0m\u001b[0;34m\u001b[0m\u001b[0m\n\u001b[0m\u001b[1;32m    600\u001b[0m         \u001b[0;32mif\u001b[0m \u001b[0missparse\u001b[0m\u001b[0;34m(\u001b[0m\u001b[0mX\u001b[0m\u001b[0;34m)\u001b[0m \u001b[0;32mand\u001b[0m \u001b[0;34m(\u001b[0m\u001b[0mX\u001b[0m\u001b[0;34m.\u001b[0m\u001b[0mindices\u001b[0m\u001b[0;34m.\u001b[0m\u001b[0mdtype\u001b[0m \u001b[0;34m!=\u001b[0m \u001b[0mnp\u001b[0m\u001b[0;34m.\u001b[0m\u001b[0mintc\u001b[0m \u001b[0;32mor\u001b[0m \u001b[0mX\u001b[0m\u001b[0;34m.\u001b[0m\u001b[0mindptr\u001b[0m\u001b[0;34m.\u001b[0m\u001b[0mdtype\u001b[0m \u001b[0;34m!=\u001b[0m \u001b[0mnp\u001b[0m\u001b[0;34m.\u001b[0m\u001b[0mintc\u001b[0m\u001b[0;34m)\u001b[0m\u001b[0;34m:\u001b[0m\u001b[0;34m\u001b[0m\u001b[0;34m\u001b[0m\u001b[0m\n\u001b[1;32m    601\u001b[0m             \u001b[0;32mraise\u001b[0m \u001b[0mValueError\u001b[0m\u001b[0;34m(\u001b[0m\u001b[0;34m\"No support for np.int64 index based sparse matrices\"\u001b[0m\u001b[0;34m)\u001b[0m\u001b[0;34m\u001b[0m\u001b[0;34m\u001b[0m\u001b[0m\n",
            "\u001b[0;32m/usr/local/lib/python3.10/dist-packages/sklearn/base.py\u001b[0m in \u001b[0;36m_validate_data\u001b[0;34m(self, X, y, reset, validate_separately, cast_to_ndarray, **check_params)\u001b[0m\n\u001b[1;32m    578\u001b[0m             \u001b[0mvalidated\u001b[0m\u001b[0;34m.\u001b[0m\u001b[0;34m\u001b[0m\u001b[0;34m\u001b[0m\u001b[0m\n\u001b[1;32m    579\u001b[0m         \"\"\"\n\u001b[0;32m--> 580\u001b[0;31m         \u001b[0mself\u001b[0m\u001b[0;34m.\u001b[0m\u001b[0m_check_feature_names\u001b[0m\u001b[0;34m(\u001b[0m\u001b[0mX\u001b[0m\u001b[0;34m,\u001b[0m \u001b[0mreset\u001b[0m\u001b[0;34m=\u001b[0m\u001b[0mreset\u001b[0m\u001b[0;34m)\u001b[0m\u001b[0;34m\u001b[0m\u001b[0;34m\u001b[0m\u001b[0m\n\u001b[0m\u001b[1;32m    581\u001b[0m \u001b[0;34m\u001b[0m\u001b[0m\n\u001b[1;32m    582\u001b[0m         \u001b[0;32mif\u001b[0m \u001b[0my\u001b[0m \u001b[0;32mis\u001b[0m \u001b[0;32mNone\u001b[0m \u001b[0;32mand\u001b[0m \u001b[0mself\u001b[0m\u001b[0;34m.\u001b[0m\u001b[0m_get_tags\u001b[0m\u001b[0;34m(\u001b[0m\u001b[0;34m)\u001b[0m\u001b[0;34m[\u001b[0m\u001b[0;34m\"requires_y\"\u001b[0m\u001b[0;34m]\u001b[0m\u001b[0;34m:\u001b[0m\u001b[0;34m\u001b[0m\u001b[0;34m\u001b[0m\u001b[0m\n",
            "\u001b[0;32m/usr/local/lib/python3.10/dist-packages/sklearn/base.py\u001b[0m in \u001b[0;36m_check_feature_names\u001b[0;34m(self, X, reset)\u001b[0m\n\u001b[1;32m    505\u001b[0m                 )\n\u001b[1;32m    506\u001b[0m \u001b[0;34m\u001b[0m\u001b[0m\n\u001b[0;32m--> 507\u001b[0;31m             \u001b[0;32mraise\u001b[0m \u001b[0mValueError\u001b[0m\u001b[0;34m(\u001b[0m\u001b[0mmessage\u001b[0m\u001b[0;34m)\u001b[0m\u001b[0;34m\u001b[0m\u001b[0;34m\u001b[0m\u001b[0m\n\u001b[0m\u001b[1;32m    508\u001b[0m \u001b[0;34m\u001b[0m\u001b[0m\n\u001b[1;32m    509\u001b[0m     def _validate_data(\n",
            "\u001b[0;31mValueError\u001b[0m: The feature names should match those that were passed during fit.\nFeature names unseen at fit time:\n- RT\n"
          ]
        }
      ]
    },
    {
      "cell_type": "code",
      "source": [
        "from sklearn.linear_model import LinearRegression\n",
        "\n",
        "model = LinearRegression()\n",
        "model.fit(X_train, y_train)\n",
        "\n",
        "# Save the trained model\n",
        "with open('efficiency_model.pkl', 'wb') as file:\n",
        "    pickle.dump(model, file)\n"
      ],
      "metadata": {
        "id": "Jj81kMubhYFJ"
      },
      "execution_count": 57,
      "outputs": []
    },
    {
      "cell_type": "code",
      "source": [
        "import dask.dataframe as dd\n",
        "import pandas as pd\n",
        "from sklearn.ensemble import RandomForestRegressor\n",
        "from sklearn.metrics import mean_absolute_error, mean_squared_error\n",
        "from sklearn.model_selection import train_test_split\n",
        "import joblib\n",
        "\n",
        "# Step 1: Load the Temperature Data\n",
        "temperature_data = dd.read_csv('/content/ECCO-19400_19400_-sensors-data-_3_.csv', assume_missing=True)\n",
        "print(\"Temperature Data:\")\n",
        "print(temperature_data.head())\n",
        "\n",
        "# Step 2: Clean the Temperature Data\n",
        "temperature_data['DateTime'] = dd.to_datetime(temperature_data['DateTime'], errors='coerce')\n",
        "temperature_data = temperature_data.map_partitions(lambda df: df.ffill())\n",
        "temperature_data = temperature_data.compute()  # Compute to get the cleaned data\n",
        "print(\"Cleaned Temperature Data:\")\n",
        "print(temperature_data.head())\n",
        "\n",
        "# Step 3: Define Features and Target for Temperature Data\n",
        "temperature_features = ['Temperature [°C]', 'RH [%]', 'WBT_C']\n",
        "# Check available columns\n",
        "print(\"Available columns in temperature data:\", temperature_data.columns)\n",
        "\n",
        "# Update the target variable based on your data (change 'RT' to an appropriate column)\n",
        "temperature_target = 'Temperature [°C]'  # Example target, adjust as needed\n",
        "\n",
        "# Ensure target has no missing values\n",
        "X_temp = temperature_data[temperature_features]\n",
        "y_temp = temperature_data[temperature_target].dropna()\n",
        "X_temp = X_temp.loc[y_temp.index]  # Align X with y\n",
        "\n",
        "# Step 4: Train-Test Split for Temperature Data\n",
        "X_temp_train, X_temp_test, y_temp_train, y_temp_test = train_test_split(X_temp, y_temp, test_size=0.2, random_state=42)\n",
        "\n",
        "# Step 5: Model Training for Temperature Data\n",
        "temp_model = RandomForestRegressor(n_estimators=100, random_state=42)\n",
        "temp_model.fit(X_temp_train, y_temp_train)\n",
        "\n",
        "# Step 6: Make Predictions and Evaluate the Model for Temperature Data\n",
        "y_temp_pred = temp_model.predict(X_temp_test)\n",
        "temp_mae = mean_absolute_error(y_temp_test, y_temp_pred)\n",
        "temp_rmse = mean_squared_error(y_temp_test, y_temp_pred, squared=False)\n",
        "\n",
        "print(f'Temperature Data - Mean Absolute Error (MAE): {temp_mae}')\n",
        "print(f'Temperature Data - Root Mean Squared Error (RMSE): {temp_rmse}')\n",
        "\n",
        "# Step 7: Save the Temperature Model\n",
        "joblib.dump(temp_model, 'temperature_model.pkl')\n",
        "\n",
        "# ----------------------------------\n",
        "\n",
        "# Step 8: Load the Efficiency Data\n",
        "efficiency_data = dd.read_csv('/content/TableData (6).csv', assume_missing=True)\n",
        "print(\"Efficiency Data:\")\n",
        "print(efficiency_data.head())\n",
        "\n",
        "# Step 9: Clean the Efficiency Data\n",
        "efficiency_data['Time'] = dd.to_datetime(efficiency_data['Time'], errors='coerce')\n",
        "efficiency_data = efficiency_data.map_partitions(lambda df: df.ffill())\n",
        "efficiency_data = efficiency_data.compute()  # Compute to get the cleaned data\n",
        "print(\"Cleaned Efficiency Data:\")\n",
        "print(efficiency_data.head())\n",
        "\n",
        "# Step 10: Define Features and Target for Efficiency Data\n",
        "efficiency_features = ['kW_RT', 'CH Load']  # Choose relevant features\n",
        "# Check available columns\n",
        "print(\"Available columns in efficiency data:\", efficiency_data.columns)\n",
        "\n",
        "# Update the target variable based on your data\n",
        "efficiency_target = 'kW_Tot'  # Example target, adjust as needed\n",
        "\n",
        "# Ensure target has no missing values\n",
        "X_eff = efficiency_data[efficiency_features]\n",
        "y_eff = efficiency_data[efficiency_target].dropna()\n",
        "X_eff = X_eff.loc[y_eff.index]  # Align X with y\n",
        "\n",
        "# Step 11: Train-Test Split for Efficiency Data\n",
        "X_eff_train, X_eff_test, y_eff_train, y_eff_test = train_test_split(X_eff, y_eff, test_size=0.2, random_state=42)\n",
        "\n",
        "# Step 12: Model Training for Efficiency Data\n",
        "eff_model = RandomForestRegressor(n_estimators=100, random_state=42)\n",
        "eff_model.fit(X_eff_train, y_eff_train)\n",
        "\n",
        "# Step 13: Make Predictions and Evaluate the Model for Efficiency Data\n",
        "y_eff_pred = eff_model.predict(X_eff_test)\n",
        "eff_mae = mean_absolute_error(y_eff_test, y_eff_pred)\n",
        "eff_rmse = mean_squared_error(y_eff_test, y_eff_pred, squared=False)\n",
        "\n",
        "print(f'Efficiency Data - Mean Absolute Error (MAE): {eff_mae}')\n",
        "print(f'Efficiency Data - Root Mean Squared Error (RMSE): {eff_rmse}')\n",
        "\n",
        "# Step 14: Save the Efficiency Model\n",
        "joblib.dump(eff_model, 'efficiency_model.pkl')"
      ],
      "metadata": {
        "colab": {
          "base_uri": "https://localhost:8080/"
        },
        "id": "AYF0JI0ahk_U",
        "outputId": "da6fcb10-335f-4b81-d9e1-54e61f7078e5"
      },
      "execution_count": 58,
      "outputs": [
        {
          "output_type": "stream",
          "name": "stdout",
          "text": [
            "Temperature Data:\n",
            "                  DateTime  RH [%]  Temperature [°C]  WBT_C\n",
            "0  2024-03-01 00:00:42.000    68.4              30.8   26.1\n",
            "1  2024-03-01 00:10:42.000    68.3              30.8   26.1\n",
            "2  2024-03-01 00:20:42.000    68.3              30.8   26.0\n",
            "3  2024-03-01 00:30:42.000    68.4              30.8   26.1\n",
            "4  2024-03-01 00:40:42.000    68.6              30.7   26.0\n",
            "Cleaned Temperature Data:\n",
            "             DateTime  RH [%]  Temperature [°C]  WBT_C\n",
            "0 2024-03-01 00:00:42    68.4              30.8   26.1\n",
            "1 2024-03-01 00:10:42    68.3              30.8   26.1\n",
            "2 2024-03-01 00:20:42    68.3              30.8   26.0\n",
            "3 2024-03-01 00:30:42    68.4              30.8   26.1\n",
            "4 2024-03-01 00:40:42    68.6              30.7   26.0\n",
            "Available columns in temperature data: Index(['DateTime', 'RH [%]', 'Temperature [°C]', 'WBT_C'], dtype='object')\n",
            "Temperature Data - Mean Absolute Error (MAE): 0.0002807547170267368\n",
            "Temperature Data - Root Mean Squared Error (RMSE): 0.010912101642861036\n",
            "Efficiency Data:\n",
            "                  Time     RT  kW_Tot  kW_RT  CH Load  CH1  CH2  CH3  CH4  \\\n",
            "0  2023-12-01T00:00:00  201.2   208.7  1.037     39.6  0.0  1.0  0.0  0.0   \n",
            "1  2023-12-01T00:10:00  180.5   203.5  1.127     38.4  0.0  1.0  0.0  0.0   \n",
            "2  2023-12-01T00:20:00  170.2   200.8  1.179     37.6  0.0  1.0  0.0  0.0   \n",
            "3  2023-12-01T00:30:00  184.9   201.2  1.088     37.8  0.0  1.0  0.0  0.0   \n",
            "4  2023-12-01T00:40:00  176.4   181.4  1.028     34.6  0.0  1.0  0.0  0.0   \n",
            "\n",
            "   kW_CHH  ...   WBT  DeltaCT  Hz_ CHP  Hz_CHS  Hz_CDS  Hz_CT  Precent_CH  \\\n",
            "0   135.6  ...  75.6     -2.4     48.0     0.0    47.0   47.0        65.0   \n",
            "1   130.4  ...  75.6     -2.3     48.0     0.0    47.0   47.0        64.1   \n",
            "2   127.8  ...  75.6     -2.2     48.0     0.0    47.0   47.0        63.6   \n",
            "3   128.3  ...  75.6     -2.0     48.0     0.0    47.0   47.0        63.8   \n",
            "4   117.6  ...  75.6     -2.2     48.0     0.0    47.0   47.0        64.8   \n",
            "\n",
            "   Precent_ CHP  Precent_CDS  Precent_CT  \n",
            "0          11.2         14.8         9.1  \n",
            "1          11.5         15.2         9.3  \n",
            "2          11.6         15.4         9.4  \n",
            "3          11.6         15.2         9.4  \n",
            "4          13.3         17.0         4.9  \n",
            "\n",
            "[5 rows x 31 columns]\n",
            "Cleaned Efficiency Data:\n",
            "                 Time     RT  kW_Tot  kW_RT  CH Load  CH1  CH2  CH3  CH4  \\\n",
            "0 2023-12-01 00:00:00  201.2   208.7  1.037     39.6  0.0  1.0  0.0  0.0   \n",
            "1 2023-12-01 00:10:00  180.5   203.5  1.127     38.4  0.0  1.0  0.0  0.0   \n",
            "2 2023-12-01 00:20:00  170.2   200.8  1.179     37.6  0.0  1.0  0.0  0.0   \n",
            "3 2023-12-01 00:30:00  184.9   201.2  1.088     37.8  0.0  1.0  0.0  0.0   \n",
            "4 2023-12-01 00:40:00  176.4   181.4  1.028     34.6  0.0  1.0  0.0  0.0   \n",
            "\n",
            "   kW_CHH  ...   WBT  DeltaCT  Hz_ CHP  Hz_CHS  Hz_CDS  Hz_CT  Precent_CH  \\\n",
            "0   135.6  ...  75.6     -2.4     48.0     0.0    47.0   47.0        65.0   \n",
            "1   130.4  ...  75.6     -2.3     48.0     0.0    47.0   47.0        64.1   \n",
            "2   127.8  ...  75.6     -2.2     48.0     0.0    47.0   47.0        63.6   \n",
            "3   128.3  ...  75.6     -2.0     48.0     0.0    47.0   47.0        63.8   \n",
            "4   117.6  ...  75.6     -2.2     48.0     0.0    47.0   47.0        64.8   \n",
            "\n",
            "   Precent_ CHP  Precent_CDS  Precent_CT  \n",
            "0          11.2         14.8         9.1  \n",
            "1          11.5         15.2         9.3  \n",
            "2          11.6         15.4         9.4  \n",
            "3          11.6         15.2         9.4  \n",
            "4          13.3         17.0         4.9  \n",
            "\n",
            "[5 rows x 31 columns]\n",
            "Available columns in efficiency data: Index(['Time', 'RT', 'kW_Tot', 'kW_RT', 'CH Load', 'CH1', 'CH2', 'CH3', 'CH4',\n",
            "       'kW_CHH', 'kW_CHP', 'kW_CHS', 'kW_CDS', 'kW_CT', 'GPM', 'DeltaCHW',\n",
            "       'CHWS', 'CHWR', 'DeltaCDW', 'CDHI', 'CDLO', 'WBT', 'DeltaCT', 'Hz_ CHP',\n",
            "       'Hz_CHS', 'Hz_CDS', 'Hz_CT', 'Precent_CH', 'Precent_ CHP',\n",
            "       'Precent_CDS', 'Precent_CT'],\n",
            "      dtype='object')\n",
            "Efficiency Data - Mean Absolute Error (MAE): 3.691321878802751\n",
            "Efficiency Data - Root Mean Squared Error (RMSE): 6.536817696235996\n"
          ]
        },
        {
          "output_type": "execute_result",
          "data": {
            "text/plain": [
              "['efficiency_model.pkl']"
            ]
          },
          "metadata": {},
          "execution_count": 58
        }
      ]
    },
    {
      "cell_type": "code",
      "source": [
        "import pickle\n",
        "import pandas as pd\n",
        "\n",
        "# Load the efficiency model\n",
        "with open('efficiency_model.pkl', 'rb') as file:\n",
        "    efficiency_model = pickle.load(file)\n",
        "\n",
        "# Create new input data for prediction\n",
        "# Ensure these columns match the ones used in X_train\n",
        "input_data = pd.DataFrame({\n",
        "    'RT': [200.0],      # Example value for RT\n",
        "    'kW_Tot': [208.7],  # Example value for kW_Tot\n",
        "    # Add any other features that were used in X_train\n",
        "})\n",
        "\n",
        "# Make predictions\n",
        "predictions = efficiency_model.predict(input_data)\n",
        "\n",
        "# Output predictions\n",
        "print(\"Predicted Efficiency:\", predictions[0])\n"
      ],
      "metadata": {
        "colab": {
          "base_uri": "https://localhost:8080/",
          "height": 211
        },
        "id": "hA2VvSRGhnVK",
        "outputId": "4ca35f82-f8c4-43b1-d2c0-c0d304ce309a"
      },
      "execution_count": 59,
      "outputs": [
        {
          "output_type": "error",
          "ename": "AttributeError",
          "evalue": "'numpy.ndarray' object has no attribute 'predict'",
          "traceback": [
            "\u001b[0;31m---------------------------------------------------------------------------\u001b[0m",
            "\u001b[0;31mAttributeError\u001b[0m                            Traceback (most recent call last)",
            "\u001b[0;32m<ipython-input-59-094d4c0552c5>\u001b[0m in \u001b[0;36m<cell line: 17>\u001b[0;34m()\u001b[0m\n\u001b[1;32m     15\u001b[0m \u001b[0;34m\u001b[0m\u001b[0m\n\u001b[1;32m     16\u001b[0m \u001b[0;31m# Make predictions\u001b[0m\u001b[0;34m\u001b[0m\u001b[0;34m\u001b[0m\u001b[0m\n\u001b[0;32m---> 17\u001b[0;31m \u001b[0mpredictions\u001b[0m \u001b[0;34m=\u001b[0m \u001b[0mefficiency_model\u001b[0m\u001b[0;34m.\u001b[0m\u001b[0mpredict\u001b[0m\u001b[0;34m(\u001b[0m\u001b[0minput_data\u001b[0m\u001b[0;34m)\u001b[0m\u001b[0;34m\u001b[0m\u001b[0;34m\u001b[0m\u001b[0m\n\u001b[0m\u001b[1;32m     18\u001b[0m \u001b[0;34m\u001b[0m\u001b[0m\n\u001b[1;32m     19\u001b[0m \u001b[0;31m# Output predictions\u001b[0m\u001b[0;34m\u001b[0m\u001b[0;34m\u001b[0m\u001b[0m\n",
            "\u001b[0;31mAttributeError\u001b[0m: 'numpy.ndarray' object has no attribute 'predict'"
          ]
        }
      ]
    },
    {
      "cell_type": "code",
      "source": [
        "from sklearn.linear_model import LinearRegression\n",
        "import pickle\n",
        "\n",
        "# Train your model\n",
        "model = LinearRegression()\n",
        "model.fit(X_train, y_train)\n",
        "\n",
        "# Save the trained model\n",
        "with open('efficiency_model.pkl', 'wb') as file:\n",
        "    pickle.dump(model, file)\n"
      ],
      "metadata": {
        "id": "31RlOxPvhz1x"
      },
      "execution_count": 60,
      "outputs": []
    },
    {
      "cell_type": "code",
      "source": [
        "# Load the efficiency model\n",
        "with open('efficiency_model.pkl', 'rb') as file:\n",
        "    efficiency_model = pickle.load(file)\n",
        "\n",
        "# Check if the loaded model is indeed a model\n",
        "print(type(efficiency_model))\n"
      ],
      "metadata": {
        "colab": {
          "base_uri": "https://localhost:8080/"
        },
        "id": "IXJ31ugGh2xw",
        "outputId": "7d4964ae-3894-4218-de57-a7b61c3a545a"
      },
      "execution_count": 61,
      "outputs": [
        {
          "output_type": "stream",
          "name": "stdout",
          "text": [
            "<class 'sklearn.linear_model._base.LinearRegression'>\n"
          ]
        }
      ]
    },
    {
      "cell_type": "code",
      "source": [
        "# Create input data for prediction\n",
        "input_data = pd.DataFrame({\n",
        "    'RT': [200.0],      # Replace with actual values\n",
        "    'kW_Tot': [208.7],  # Replace with actual values\n",
        "})\n",
        "\n",
        "# Make predictions\n",
        "predictions = efficiency_model.predict(input_data)\n",
        "\n",
        "# Output predictions\n",
        "print(\"Predicted Efficiency:\", predictions[0])\n"
      ],
      "metadata": {
        "colab": {
          "base_uri": "https://localhost:8080/"
        },
        "id": "OhClDL4Bh51f",
        "outputId": "22d25410-9eab-4d31-bfa3-236af41331bd"
      },
      "execution_count": 62,
      "outputs": [
        {
          "output_type": "stream",
          "name": "stdout",
          "text": [
            "Predicted Efficiency: 768.6609818490685\n"
          ]
        },
        {
          "output_type": "stream",
          "name": "stderr",
          "text": [
            "/usr/local/lib/python3.10/dist-packages/sklearn/base.py:458: UserWarning: X has feature names, but LinearRegression was fitted without feature names\n",
            "  warnings.warn(\n"
          ]
        }
      ]
    },
    {
      "cell_type": "code",
      "source": [
        "from google.colab import files\n",
        "\n",
        "# Download the efficiency model\n",
        "files.download('efficiency_model.pkl')\n"
      ],
      "metadata": {
        "colab": {
          "base_uri": "https://localhost:8080/",
          "height": 17
        },
        "id": "4grYnA9Bh-yQ",
        "outputId": "7b4f0045-c83e-447f-fe79-da16deac8093"
      },
      "execution_count": 63,
      "outputs": [
        {
          "output_type": "display_data",
          "data": {
            "text/plain": [
              "<IPython.core.display.Javascript object>"
            ],
            "application/javascript": [
              "\n",
              "    async function download(id, filename, size) {\n",
              "      if (!google.colab.kernel.accessAllowed) {\n",
              "        return;\n",
              "      }\n",
              "      const div = document.createElement('div');\n",
              "      const label = document.createElement('label');\n",
              "      label.textContent = `Downloading \"${filename}\": `;\n",
              "      div.appendChild(label);\n",
              "      const progress = document.createElement('progress');\n",
              "      progress.max = size;\n",
              "      div.appendChild(progress);\n",
              "      document.body.appendChild(div);\n",
              "\n",
              "      const buffers = [];\n",
              "      let downloaded = 0;\n",
              "\n",
              "      const channel = await google.colab.kernel.comms.open(id);\n",
              "      // Send a message to notify the kernel that we're ready.\n",
              "      channel.send({})\n",
              "\n",
              "      for await (const message of channel.messages) {\n",
              "        // Send a message to notify the kernel that we're ready.\n",
              "        channel.send({})\n",
              "        if (message.buffers) {\n",
              "          for (const buffer of message.buffers) {\n",
              "            buffers.push(buffer);\n",
              "            downloaded += buffer.byteLength;\n",
              "            progress.value = downloaded;\n",
              "          }\n",
              "        }\n",
              "      }\n",
              "      const blob = new Blob(buffers, {type: 'application/binary'});\n",
              "      const a = document.createElement('a');\n",
              "      a.href = window.URL.createObjectURL(blob);\n",
              "      a.download = filename;\n",
              "      div.appendChild(a);\n",
              "      a.click();\n",
              "      div.remove();\n",
              "    }\n",
              "  "
            ]
          },
          "metadata": {}
        },
        {
          "output_type": "display_data",
          "data": {
            "text/plain": [
              "<IPython.core.display.Javascript object>"
            ],
            "application/javascript": [
              "download(\"download_d4a78cce-0642-4b57-a464-0fbafeb366fb\", \"efficiency_model.pkl\", 435)"
            ]
          },
          "metadata": {}
        }
      ]
    },
    {
      "cell_type": "code",
      "source": [
        "import dask.dataframe as dd\n",
        "import pandas as pd\n",
        "from sklearn.ensemble import RandomForestRegressor\n",
        "from sklearn.metrics import mean_absolute_error, mean_squared_error\n",
        "from sklearn.model_selection import train_test_split\n",
        "import joblib\n",
        "\n",
        "# Step 1: Load the Temperature Data\n",
        "temperature_data = dd.read_csv('/content/ECCO-19400_19400_-sensors-data-_3_.csv', assume_missing=True)\n",
        "print(\"Temperature Data:\")\n",
        "print(temperature_data.head())\n",
        "\n",
        "# Step 2: Clean the Temperature Data\n",
        "temperature_data['DateTime'] = dd.to_datetime(temperature_data['DateTime'], errors='coerce')\n",
        "temperature_data = temperature_data.map_partitions(lambda df: df.ffill())\n",
        "temperature_data = temperature_data.compute()  # Compute to get the cleaned data\n",
        "print(\"Cleaned Temperature Data:\")\n",
        "print(temperature_data.head())\n",
        "\n",
        "# Step 3: Define Features and Target for Temperature Data\n",
        "temperature_features = ['Temperature [°C]', 'RH [%]', 'WBT_C']\n",
        "# Check available columns\n",
        "print(\"Available columns in temperature data:\", temperature_data.columns)\n",
        "\n",
        "# Update the target variable based on your data (change 'RT' to an appropriate column)\n",
        "temperature_target = 'Temperature [°C]'  # Example target, adjust as needed\n",
        "\n",
        "# Ensure target has no missing values\n",
        "X_temp = temperature_data[temperature_features]\n",
        "y_temp = temperature_data[temperature_target].dropna()\n",
        "X_temp = X_temp.loc[y_temp.index]  # Align X with y\n",
        "\n",
        "# Step 4: Train-Test Split for Temperature Data\n",
        "X_temp_train, X_temp_test, y_temp_train, y_temp_test = train_test_split(X_temp, y_temp, test_size=0.2, random_state=42)\n",
        "\n",
        "# Step 5: Model Training for Temperature Data\n",
        "temp_model = RandomForestRegressor(n_estimators=100, random_state=42)\n",
        "temp_model.fit(X_temp_train, y_temp_train)\n",
        "\n",
        "# Step 6: Make Predictions and Evaluate the Model for Temperature Data\n",
        "y_temp_pred = temp_model.predict(X_temp_test)\n",
        "temp_mae = mean_absolute_error(y_temp_test, y_temp_pred)\n",
        "temp_rmse = mean_squared_error(y_temp_test, y_temp_pred, squared=False)\n",
        "\n",
        "print(f'Temperature Data - Mean Absolute Error (MAE): {temp_mae}')\n",
        "print(f'Temperature Data - Root Mean Squared Error (RMSE): {temp_rmse}')\n",
        "\n",
        "# Step 7: Save the Temperature Model\n",
        "joblib.dump(temp_model, 'temperature_model.pkl')\n",
        "\n",
        "# ----------------------------------\n",
        "\n",
        "# Step 8: Load the Efficiency Data\n",
        "efficiency_data = dd.read_csv('/content/TableData (6).csv', assume_missing=True)\n",
        "print(\"Efficiency Data:\")\n",
        "print(efficiency_data.head())\n",
        "\n",
        "# Step 9: Clean the Efficiency Data\n",
        "efficiency_data['Time'] = dd.to_datetime(efficiency_data['Time'], errors='coerce')\n",
        "efficiency_data = efficiency_data.map_partitions(lambda df: df.ffill())\n",
        "efficiency_data = efficiency_data.compute()  # Compute to get the cleaned data\n",
        "print(\"Cleaned Efficiency Data:\")\n",
        "print(efficiency_data.head())\n",
        "\n",
        "# Step 10: Define Features and Target for Efficiency Data\n",
        "efficiency_features = ['kW_RT', 'CH Load']  # Choose relevant features\n",
        "# Check available columns\n",
        "print(\"Available columns in efficiency data:\", efficiency_data.columns)\n",
        "\n",
        "# Update the target variable based on your data\n",
        "efficiency_target = 'kW_Tot'  # Example target, adjust as needed\n",
        "\n",
        "# Ensure target has no missing values\n",
        "X_eff = efficiency_data[efficiency_features]\n",
        "y_eff = efficiency_data[efficiency_target].dropna()\n",
        "X_eff = X_eff.loc[y_eff.index]  # Align X with y\n",
        "\n",
        "# Step 11: Train-Test Split for Efficiency Data\n",
        "X_eff_train, X_eff_test, y_eff_train, y_eff_test = train_test_split(X_eff, y_eff, test_size=0.2, random_state=42)\n",
        "\n",
        "# Step 12: Model Training for Efficiency Data\n",
        "eff_model = RandomForestRegressor(n_estimators=100, random_state=42)\n",
        "eff_model.fit(X_eff_train, y_eff_train)\n",
        "\n",
        "# Step 13: Make Predictions and Evaluate the Model for Efficiency Data\n",
        "y_eff_pred = eff_model.predict(X_eff_test)\n",
        "eff_mae = mean_absolute_error(y_eff_test, y_eff_pred)\n",
        "eff_rmse = mean_squared_error(y_eff_test, y_eff_pred, squared=False)\n",
        "\n",
        "print(f'Efficiency Data - Mean Absolute Error (MAE): {eff_mae}')\n",
        "print(f'Efficiency Data - Root Mean Squared Error (RMSE): {eff_rmse}')\n",
        "\n",
        "# Step 14: Save the Efficiency Model\n",
        "joblib.dump(eff_model, 'efficiency_model.pkl')"
      ],
      "metadata": {
        "colab": {
          "base_uri": "https://localhost:8080/"
        },
        "id": "xoEBdWwqiPoY",
        "outputId": "76679b3c-9f7e-447c-cb8d-8e25f2c11914"
      },
      "execution_count": 64,
      "outputs": [
        {
          "output_type": "stream",
          "name": "stdout",
          "text": [
            "Temperature Data:\n",
            "                  DateTime  RH [%]  Temperature [°C]  WBT_C\n",
            "0  2024-03-01 00:00:42.000    68.4              30.8   26.1\n",
            "1  2024-03-01 00:10:42.000    68.3              30.8   26.1\n",
            "2  2024-03-01 00:20:42.000    68.3              30.8   26.0\n",
            "3  2024-03-01 00:30:42.000    68.4              30.8   26.1\n",
            "4  2024-03-01 00:40:42.000    68.6              30.7   26.0\n",
            "Cleaned Temperature Data:\n",
            "             DateTime  RH [%]  Temperature [°C]  WBT_C\n",
            "0 2024-03-01 00:00:42    68.4              30.8   26.1\n",
            "1 2024-03-01 00:10:42    68.3              30.8   26.1\n",
            "2 2024-03-01 00:20:42    68.3              30.8   26.0\n",
            "3 2024-03-01 00:30:42    68.4              30.8   26.1\n",
            "4 2024-03-01 00:40:42    68.6              30.7   26.0\n",
            "Available columns in temperature data: Index(['DateTime', 'RH [%]', 'Temperature [°C]', 'WBT_C'], dtype='object')\n",
            "Temperature Data - Mean Absolute Error (MAE): 0.0002807547170267368\n",
            "Temperature Data - Root Mean Squared Error (RMSE): 0.010912101642861036\n",
            "Efficiency Data:\n",
            "                  Time     RT  kW_Tot  kW_RT  CH Load  CH1  CH2  CH3  CH4  \\\n",
            "0  2023-12-01T00:00:00  201.2   208.7  1.037     39.6  0.0  1.0  0.0  0.0   \n",
            "1  2023-12-01T00:10:00  180.5   203.5  1.127     38.4  0.0  1.0  0.0  0.0   \n",
            "2  2023-12-01T00:20:00  170.2   200.8  1.179     37.6  0.0  1.0  0.0  0.0   \n",
            "3  2023-12-01T00:30:00  184.9   201.2  1.088     37.8  0.0  1.0  0.0  0.0   \n",
            "4  2023-12-01T00:40:00  176.4   181.4  1.028     34.6  0.0  1.0  0.0  0.0   \n",
            "\n",
            "   kW_CHH  ...   WBT  DeltaCT  Hz_ CHP  Hz_CHS  Hz_CDS  Hz_CT  Precent_CH  \\\n",
            "0   135.6  ...  75.6     -2.4     48.0     0.0    47.0   47.0        65.0   \n",
            "1   130.4  ...  75.6     -2.3     48.0     0.0    47.0   47.0        64.1   \n",
            "2   127.8  ...  75.6     -2.2     48.0     0.0    47.0   47.0        63.6   \n",
            "3   128.3  ...  75.6     -2.0     48.0     0.0    47.0   47.0        63.8   \n",
            "4   117.6  ...  75.6     -2.2     48.0     0.0    47.0   47.0        64.8   \n",
            "\n",
            "   Precent_ CHP  Precent_CDS  Precent_CT  \n",
            "0          11.2         14.8         9.1  \n",
            "1          11.5         15.2         9.3  \n",
            "2          11.6         15.4         9.4  \n",
            "3          11.6         15.2         9.4  \n",
            "4          13.3         17.0         4.9  \n",
            "\n",
            "[5 rows x 31 columns]\n",
            "Cleaned Efficiency Data:\n",
            "                 Time     RT  kW_Tot  kW_RT  CH Load  CH1  CH2  CH3  CH4  \\\n",
            "0 2023-12-01 00:00:00  201.2   208.7  1.037     39.6  0.0  1.0  0.0  0.0   \n",
            "1 2023-12-01 00:10:00  180.5   203.5  1.127     38.4  0.0  1.0  0.0  0.0   \n",
            "2 2023-12-01 00:20:00  170.2   200.8  1.179     37.6  0.0  1.0  0.0  0.0   \n",
            "3 2023-12-01 00:30:00  184.9   201.2  1.088     37.8  0.0  1.0  0.0  0.0   \n",
            "4 2023-12-01 00:40:00  176.4   181.4  1.028     34.6  0.0  1.0  0.0  0.0   \n",
            "\n",
            "   kW_CHH  ...   WBT  DeltaCT  Hz_ CHP  Hz_CHS  Hz_CDS  Hz_CT  Precent_CH  \\\n",
            "0   135.6  ...  75.6     -2.4     48.0     0.0    47.0   47.0        65.0   \n",
            "1   130.4  ...  75.6     -2.3     48.0     0.0    47.0   47.0        64.1   \n",
            "2   127.8  ...  75.6     -2.2     48.0     0.0    47.0   47.0        63.6   \n",
            "3   128.3  ...  75.6     -2.0     48.0     0.0    47.0   47.0        63.8   \n",
            "4   117.6  ...  75.6     -2.2     48.0     0.0    47.0   47.0        64.8   \n",
            "\n",
            "   Precent_ CHP  Precent_CDS  Precent_CT  \n",
            "0          11.2         14.8         9.1  \n",
            "1          11.5         15.2         9.3  \n",
            "2          11.6         15.4         9.4  \n",
            "3          11.6         15.2         9.4  \n",
            "4          13.3         17.0         4.9  \n",
            "\n",
            "[5 rows x 31 columns]\n",
            "Available columns in efficiency data: Index(['Time', 'RT', 'kW_Tot', 'kW_RT', 'CH Load', 'CH1', 'CH2', 'CH3', 'CH4',\n",
            "       'kW_CHH', 'kW_CHP', 'kW_CHS', 'kW_CDS', 'kW_CT', 'GPM', 'DeltaCHW',\n",
            "       'CHWS', 'CHWR', 'DeltaCDW', 'CDHI', 'CDLO', 'WBT', 'DeltaCT', 'Hz_ CHP',\n",
            "       'Hz_CHS', 'Hz_CDS', 'Hz_CT', 'Precent_CH', 'Precent_ CHP',\n",
            "       'Precent_CDS', 'Precent_CT'],\n",
            "      dtype='object')\n",
            "Efficiency Data - Mean Absolute Error (MAE): 3.691321878802751\n",
            "Efficiency Data - Root Mean Squared Error (RMSE): 6.536817696235996\n"
          ]
        },
        {
          "output_type": "execute_result",
          "data": {
            "text/plain": [
              "['efficiency_model.pkl']"
            ]
          },
          "metadata": {},
          "execution_count": 64
        }
      ]
    },
    {
      "cell_type": "code",
      "source": [
        "import joblib\n",
        "\n",
        "# Train your model\n",
        "model = LinearRegression()\n",
        "model.fit(X_train, y_train)\n",
        "\n",
        "# Save the trained model using Joblib\n",
        "joblib.dump(model, 'efficiency_model.joblib')\n"
      ],
      "metadata": {
        "colab": {
          "base_uri": "https://localhost:8080/"
        },
        "id": "hBiVq1IfiR6S",
        "outputId": "36837c69-a0c7-46eb-88c1-e0ab2e7398c5"
      },
      "execution_count": 65,
      "outputs": [
        {
          "output_type": "execute_result",
          "data": {
            "text/plain": [
              "['efficiency_model.joblib']"
            ]
          },
          "metadata": {},
          "execution_count": 65
        }
      ]
    },
    {
      "cell_type": "code",
      "source": [
        "print(\"Coefficients:\", model.coef_)\n",
        "print(\"Intercept:\", model.intercept_)\n"
      ],
      "metadata": {
        "colab": {
          "base_uri": "https://localhost:8080/"
        },
        "id": "IMozt_FXiV7y",
        "outputId": "5076e5f5-ce0f-4bbb-c349-1926171bb8c4"
      },
      "execution_count": 66,
      "outputs": [
        {
          "output_type": "stream",
          "name": "stdout",
          "text": [
            "Coefficients: [0.0530027  3.32637765]\n",
            "Intercept: 63.84542601508002\n"
          ]
        }
      ]
    },
    {
      "cell_type": "code",
      "source": [
        "from google.colab import files\n",
        "\n",
        "# Download the model\n",
        "files.download('efficiency_model.joblib')\n"
      ],
      "metadata": {
        "colab": {
          "base_uri": "https://localhost:8080/",
          "height": 17
        },
        "id": "L6phVgkMik2Z",
        "outputId": "622e73c9-f265-4c97-94ce-a4cc5e1300f0"
      },
      "execution_count": 67,
      "outputs": [
        {
          "output_type": "display_data",
          "data": {
            "text/plain": [
              "<IPython.core.display.Javascript object>"
            ],
            "application/javascript": [
              "\n",
              "    async function download(id, filename, size) {\n",
              "      if (!google.colab.kernel.accessAllowed) {\n",
              "        return;\n",
              "      }\n",
              "      const div = document.createElement('div');\n",
              "      const label = document.createElement('label');\n",
              "      label.textContent = `Downloading \"${filename}\": `;\n",
              "      div.appendChild(label);\n",
              "      const progress = document.createElement('progress');\n",
              "      progress.max = size;\n",
              "      div.appendChild(progress);\n",
              "      document.body.appendChild(div);\n",
              "\n",
              "      const buffers = [];\n",
              "      let downloaded = 0;\n",
              "\n",
              "      const channel = await google.colab.kernel.comms.open(id);\n",
              "      // Send a message to notify the kernel that we're ready.\n",
              "      channel.send({})\n",
              "\n",
              "      for await (const message of channel.messages) {\n",
              "        // Send a message to notify the kernel that we're ready.\n",
              "        channel.send({})\n",
              "        if (message.buffers) {\n",
              "          for (const buffer of message.buffers) {\n",
              "            buffers.push(buffer);\n",
              "            downloaded += buffer.byteLength;\n",
              "            progress.value = downloaded;\n",
              "          }\n",
              "        }\n",
              "      }\n",
              "      const blob = new Blob(buffers, {type: 'application/binary'});\n",
              "      const a = document.createElement('a');\n",
              "      a.href = window.URL.createObjectURL(blob);\n",
              "      a.download = filename;\n",
              "      div.appendChild(a);\n",
              "      a.click();\n",
              "      div.remove();\n",
              "    }\n",
              "  "
            ]
          },
          "metadata": {}
        },
        {
          "output_type": "display_data",
          "data": {
            "text/plain": [
              "<IPython.core.display.Javascript object>"
            ],
            "application/javascript": [
              "download(\"download_bbec51f1-17e3-4c21-97d7-cb84586c5e82\", \"efficiency_model.joblib\", 584)"
            ]
          },
          "metadata": {}
        }
      ]
    },
    {
      "cell_type": "code",
      "source": [
        "import numpy as np\n",
        "from sklearn.metrics import mean_absolute_error, mean_squared_error, r2_score\n",
        "\n",
        "# Predict on the training set (or use a validation set if you have one)\n",
        "predictions = model.predict(X_train)\n",
        "\n",
        "# Calculate performance metrics\n",
        "mae = mean_absolute_error(y_train, predictions)\n",
        "rmse = np.sqrt(mean_squared_error(y_train, predictions))\n",
        "r2 = r2_score(y_train, predictions)\n",
        "\n",
        "# Output the performance metrics\n",
        "print(f'Mean Absolute Error (MAE): {mae}')\n",
        "print(f'Root Mean Squared Error (RMSE): {rmse}')\n",
        "print(f'R-squared: {r2}')\n"
      ],
      "metadata": {
        "colab": {
          "base_uri": "https://localhost:8080/"
        },
        "id": "kcCs82Qyi1qe",
        "outputId": "98da4edb-e798-495b-d1f6-169c9957a5bc"
      },
      "execution_count": 68,
      "outputs": [
        {
          "output_type": "stream",
          "name": "stdout",
          "text": [
            "Mean Absolute Error (MAE): 3.3799517012135984\n",
            "Root Mean Squared Error (RMSE): 6.046575223634643\n",
            "R-squared: 0.9923168018545561\n"
          ]
        }
      ]
    },
    {
      "cell_type": "code",
      "source": [
        "import pandas as pd\n",
        "\n",
        "# Sample input data (adjust these values based on your feature columns)\n",
        "sample_input = {\n",
        "    'RT': [180, 190, 200],      # Replace with actual values\n",
        "    'kW_Tot': [205, 210, 215]   # Replace with actual values\n",
        "}\n",
        "\n",
        "# Create a DataFrame\n",
        "input_data = pd.DataFrame(sample_input)\n",
        "\n",
        "# Make predictions\n",
        "predictions = efficiency_model.predict(input_data)\n",
        "\n",
        "# Output predictions\n",
        "for i, pred in enumerate(predictions):\n",
        "    print(f\"Prediction for input {i + 1}: {pred}\")\n"
      ],
      "metadata": {
        "colab": {
          "base_uri": "https://localhost:8080/"
        },
        "id": "NFcQqUZGjLkl",
        "outputId": "b998a05c-4f83-4a93-fdd6-0db9709b6692"
      },
      "execution_count": 69,
      "outputs": [
        {
          "output_type": "stream",
          "name": "stdout",
          "text": [
            "Prediction for input 1: 755.2933304695036\n",
            "Prediction for input 2: 772.4552457482248\n",
            "Prediction for input 3: 789.617161026946\n"
          ]
        },
        {
          "output_type": "stream",
          "name": "stderr",
          "text": [
            "/usr/local/lib/python3.10/dist-packages/sklearn/base.py:458: UserWarning: X has feature names, but LinearRegression was fitted without feature names\n",
            "  warnings.warn(\n"
          ]
        }
      ]
    },
    {
      "cell_type": "code",
      "source": [
        "from google.colab import files\n",
        "\n",
        "# Download the efficiency model\n",
        "files.download('efficiency_model.pkl')\n"
      ],
      "metadata": {
        "colab": {
          "base_uri": "https://localhost:8080/",
          "height": 17
        },
        "id": "mN3daLKOjVri",
        "outputId": "1301c093-40df-4461-d38e-126feab99a31"
      },
      "execution_count": 70,
      "outputs": [
        {
          "output_type": "display_data",
          "data": {
            "text/plain": [
              "<IPython.core.display.Javascript object>"
            ],
            "application/javascript": [
              "\n",
              "    async function download(id, filename, size) {\n",
              "      if (!google.colab.kernel.accessAllowed) {\n",
              "        return;\n",
              "      }\n",
              "      const div = document.createElement('div');\n",
              "      const label = document.createElement('label');\n",
              "      label.textContent = `Downloading \"${filename}\": `;\n",
              "      div.appendChild(label);\n",
              "      const progress = document.createElement('progress');\n",
              "      progress.max = size;\n",
              "      div.appendChild(progress);\n",
              "      document.body.appendChild(div);\n",
              "\n",
              "      const buffers = [];\n",
              "      let downloaded = 0;\n",
              "\n",
              "      const channel = await google.colab.kernel.comms.open(id);\n",
              "      // Send a message to notify the kernel that we're ready.\n",
              "      channel.send({})\n",
              "\n",
              "      for await (const message of channel.messages) {\n",
              "        // Send a message to notify the kernel that we're ready.\n",
              "        channel.send({})\n",
              "        if (message.buffers) {\n",
              "          for (const buffer of message.buffers) {\n",
              "            buffers.push(buffer);\n",
              "            downloaded += buffer.byteLength;\n",
              "            progress.value = downloaded;\n",
              "          }\n",
              "        }\n",
              "      }\n",
              "      const blob = new Blob(buffers, {type: 'application/binary'});\n",
              "      const a = document.createElement('a');\n",
              "      a.href = window.URL.createObjectURL(blob);\n",
              "      a.download = filename;\n",
              "      div.appendChild(a);\n",
              "      a.click();\n",
              "      div.remove();\n",
              "    }\n",
              "  "
            ]
          },
          "metadata": {}
        },
        {
          "output_type": "display_data",
          "data": {
            "text/plain": [
              "<IPython.core.display.Javascript object>"
            ],
            "application/javascript": [
              "download(\"download_e87a27ad-9d12-4759-bf15-960b388ce8a9\", \"efficiency_model.pkl\", 30460001)"
            ]
          },
          "metadata": {}
        }
      ]
    }
  ]
}